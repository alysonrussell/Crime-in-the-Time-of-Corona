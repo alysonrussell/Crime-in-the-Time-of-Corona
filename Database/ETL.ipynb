{
 "cells": [
  {
   "cell_type": "markdown",
   "metadata": {},
   "source": [
    "### Crime in the time of Corona - Create DB from raw CSV tables"
   ]
  },
  {
   "cell_type": "code",
   "execution_count": null,
   "metadata": {},
   "outputs": [],
   "source": [
    "## Add dependencies: Pandas\n",
    "import pandas as pd\n",
    "import os # needed to use the os.path.join method to load the files\n",
    "from sqlalchemy import create_engine # for integrating with PostgreSQL\n",
    "from config import db_password"
   ]
  },
  {
   "cell_type": "markdown",
   "metadata": {},
   "source": [
    "#### Incidents: Load raw csv, create dataframe and clean data."
   ]
  },
  {
   "cell_type": "code",
   "execution_count": null,
   "metadata": {},
   "outputs": [],
   "source": [
    "# Load the CSV Files into a dataframes.\n",
    "incidents_raw_df = pd.read_csv(\"../Resources - MPD Data/incidentTableCopyClean.csv\")"
   ]
  },
  {
   "cell_type": "code",
   "execution_count": null,
   "metadata": {
    "scrolled": true
   },
   "outputs": [],
   "source": [
    "# Review the incidents table fields and counts of each field.\n",
    "incidents_raw_df.info()\n",
    "# 1788 records. Removed MP20009253 from CSV due to very incomplete record. "
   ]
  },
  {
   "cell_type": "code",
   "execution_count": null,
   "metadata": {},
   "outputs": [],
   "source": [
    "# Review Number field for uniqueness. Its our primary field\n",
    "incidents_raw_df.Number.value_counts(sort=True, dropna=True, ascending=False, bins=None)\n",
    "# Results show 1661 unique values meaning 127 are possible duplicates.\n",
    "# Looks like Case Number duplication is valid due to multiple offenses under same case.\n",
    "# Need to create a primary unique field. "
   ]
  },
  {
   "cell_type": "code",
   "execution_count": null,
   "metadata": {},
   "outputs": [],
   "source": [
    "# Create a primary unique field: Number plus offenseCode. \n",
    "# Call it CID for Case Id\n",
    "incidents_raw_df[\"CID\"] = incidents_raw_df[\"Number\"] + ' - ' + incidents_raw_df[\"offenseCode\"] \n",
    "incidents_raw_df.head(3)"
   ]
  },
  {
   "cell_type": "code",
   "execution_count": null,
   "metadata": {},
   "outputs": [],
   "source": [
    "# Check uniqueness of new combined field\n",
    "incidents_raw_df.CID.value_counts(sort=True, dropna=True, ascending=False, bins=None) \n",
    "# Visual review of remaining double entries shows they are in fact duplicates."
   ]
  },
  {
   "cell_type": "code",
   "execution_count": null,
   "metadata": {},
   "outputs": [],
   "source": [
    "# Drop the Duplicate Case IDs. Then check counts again.\n",
    "incidents_raw_df.drop_duplicates(subset =\"CID\", keep = False, inplace = True)\n",
    "incidents_raw_df.CID.value_counts(sort=True, ascending=False) "
   ]
  },
  {
   "cell_type": "code",
   "execution_count": null,
   "metadata": {},
   "outputs": [],
   "source": [
    "# Set index to CID.  If it works, we have unique values for our CID field. woohoo!\n",
    "incidents_raw_df.set_index('CID',inplace=True)\n",
    "incidents_raw_df.head(3)"
   ]
  },
  {
   "cell_type": "code",
   "execution_count": null,
   "metadata": {},
   "outputs": [],
   "source": [
    "# How much data is left in our dataframe?\n",
    "incidents_raw_df.info()\n",
    "# Looks like 1778 rows, so we eliminated 10 records.  Lots of work for a unique primary key, but necessary."
   ]
  },
  {
   "cell_type": "code",
   "execution_count": null,
   "metadata": {},
   "outputs": [],
   "source": [
    "## Ok. now we review and clean remaining fields in Incidents table. \n",
    "\n",
    "#  Start with the date field. Create a new date field stripped to date without time.\n",
    "\n",
    "incidents_raw_df[\"dateIncident\"] = pd.to_datetime(incidents_raw_df[\"dateReported\"]).apply(lambda x: x.date())\n",
    "incidents_raw_df.head(3)"
   ]
  },
  {
   "cell_type": "code",
   "execution_count": null,
   "metadata": {},
   "outputs": [],
   "source": [
    "## Create a new week field so we can do stats of crime types over time by week.\n",
    "incidents_raw_df['weekNumber'] = pd.to_datetime(incidents_raw_df['dateReported']).dt.week\n",
    "\n",
    "# This works, but since our data starts in 2019, we have five weeks with numbers over 40. Starting with Week 47 with blank week.\n",
    "incidents_raw_df.weekNumber.value_counts(sort=True, dropna=True, ascending=False, bins=None)"
   ]
  },
  {
   "cell_type": "code",
   "execution_count": null,
   "metadata": {},
   "outputs": [],
   "source": [
    "## How to fix to make weekNumber column useful for linear regression analysis?\n",
    "#  Add six to each week number so that the first six slots in the week order can be allocated to 2019\n",
    "incidents_raw_df['weekNumber']= incidents_raw_df['weekNumber'] + 6"
   ]
  },
  {
   "cell_type": "code",
   "execution_count": null,
   "metadata": {},
   "outputs": [],
   "source": [
    "# Now replace the high values for 2019 weeks with proper lower numbers.\n",
    "incidents_raw_df[\"weekNumber\"].replace({53:1,54:2,55:3,56:4,57:5,58:6}, inplace=True)"
   ]
  },
  {
   "cell_type": "code",
   "execution_count": null,
   "metadata": {},
   "outputs": [],
   "source": [
    "# How does the weekNumber field tally look now? Sweet!\n",
    "incidents_raw_df.weekNumber.value_counts(sort=True, ascending=False, bins=None)"
   ]
  },
  {
   "cell_type": "code",
   "execution_count": null,
   "metadata": {},
   "outputs": [],
   "source": [
    "## Now we look at our offense codes. \n",
    "incidents_raw_df.offenseCode.value_counts(sort=True, ascending=False)\n",
    "# Need a subject matter expert. This could be ok. Or not."
   ]
  },
  {
   "cell_type": "code",
   "execution_count": null,
   "metadata": {},
   "outputs": [],
   "source": []
  },
  {
   "cell_type": "markdown",
   "metadata": {},
   "source": [
    "#### FBI Crime National Crime Data, 1980 - 2018. Load and Clean"
   ]
  },
  {
   "cell_type": "code",
   "execution_count": 8,
   "metadata": {},
   "outputs": [
    {
     "data": {
      "text/html": [
       "<div>\n",
       "<style scoped>\n",
       "    .dataframe tbody tr th:only-of-type {\n",
       "        vertical-align: middle;\n",
       "    }\n",
       "\n",
       "    .dataframe tbody tr th {\n",
       "        vertical-align: top;\n",
       "    }\n",
       "\n",
       "    .dataframe thead th {\n",
       "        text-align: right;\n",
       "    }\n",
       "</style>\n",
       "<table border=\"1\" class=\"dataframe\">\n",
       "  <thead>\n",
       "    <tr style=\"text-align: right;\">\n",
       "      <th></th>\n",
       "      <th>year</th>\n",
       "      <th>state_abbr</th>\n",
       "      <th>population</th>\n",
       "      <th>violent_crime</th>\n",
       "      <th>homicide</th>\n",
       "      <th>rape_legacy</th>\n",
       "      <th>rape_revised</th>\n",
       "      <th>robbery</th>\n",
       "      <th>aggravated_assault</th>\n",
       "    </tr>\n",
       "  </thead>\n",
       "  <tbody>\n",
       "    <tr>\n",
       "      <th>0</th>\n",
       "      <td>1980</td>\n",
       "      <td>AK</td>\n",
       "      <td>440142</td>\n",
       "      <td>1919</td>\n",
       "      <td>39</td>\n",
       "      <td>250.0</td>\n",
       "      <td>NaN</td>\n",
       "      <td>360</td>\n",
       "      <td>1270</td>\n",
       "    </tr>\n",
       "    <tr>\n",
       "      <th>1</th>\n",
       "      <td>1980</td>\n",
       "      <td>AL</td>\n",
       "      <td>3861466</td>\n",
       "      <td>17320</td>\n",
       "      <td>509</td>\n",
       "      <td>1158.0</td>\n",
       "      <td>NaN</td>\n",
       "      <td>5102</td>\n",
       "      <td>10551</td>\n",
       "    </tr>\n",
       "    <tr>\n",
       "      <th>2</th>\n",
       "      <td>1980</td>\n",
       "      <td>AR</td>\n",
       "      <td>2284037</td>\n",
       "      <td>7656</td>\n",
       "      <td>210</td>\n",
       "      <td>609.0</td>\n",
       "      <td>NaN</td>\n",
       "      <td>1848</td>\n",
       "      <td>4989</td>\n",
       "    </tr>\n",
       "  </tbody>\n",
       "</table>\n",
       "</div>"
      ],
      "text/plain": [
       "   year state_abbr  population  violent_crime  homicide  rape_legacy  \\\n",
       "0  1980         AK      440142           1919        39        250.0   \n",
       "1  1980         AL     3861466          17320       509       1158.0   \n",
       "2  1980         AR     2284037           7656       210        609.0   \n",
       "\n",
       "   rape_revised  robbery  aggravated_assault  \n",
       "0           NaN      360                1270  \n",
       "1           NaN     5102               10551  \n",
       "2           NaN     1848                4989  "
      ]
     },
     "execution_count": 8,
     "metadata": {},
     "output_type": "execute_result"
    }
   ],
   "source": [
    "#### FBICrimes Load and Clean the 1980 to 2018 csv data into a dataframe\n",
    "FBICrimes_df =  pd.read_csv(\"../Resources/est_crimes_1980_2018_FBI_UCRdata.csv\")\n",
    "FBICrimes_df.head(3)"
   ]
  },
  {
   "cell_type": "code",
   "execution_count": null,
   "metadata": {},
   "outputs": [],
   "source": [
    "## Data looks clean. No obvious transformations needed. Ourarget of aggravated assault has a full row counts of 1974.\n",
    "FBICrimes_df.info(3)\n",
    "FBICrimes_df.describe()"
   ]
  },
  {
   "cell_type": "markdown",
   "metadata": {},
   "source": [
    "#### National Unemployment Data,1980- 2018. Load and Clean."
   ]
  },
  {
   "cell_type": "code",
   "execution_count": 13,
   "metadata": {},
   "outputs": [
    {
     "data": {
      "text/html": [
       "<div>\n",
       "<style scoped>\n",
       "    .dataframe tbody tr th:only-of-type {\n",
       "        vertical-align: middle;\n",
       "    }\n",
       "\n",
       "    .dataframe tbody tr th {\n",
       "        vertical-align: top;\n",
       "    }\n",
       "\n",
       "    .dataframe thead th {\n",
       "        text-align: right;\n",
       "    }\n",
       "</style>\n",
       "<table border=\"1\" class=\"dataframe\">\n",
       "  <thead>\n",
       "    <tr style=\"text-align: right;\">\n",
       "      <th></th>\n",
       "      <th>Year</th>\n",
       "      <th>State</th>\n",
       "      <th>Jan</th>\n",
       "      <th>Feb</th>\n",
       "      <th>Mar</th>\n",
       "      <th>Apr</th>\n",
       "      <th>May</th>\n",
       "      <th>Jun</th>\n",
       "      <th>Jul</th>\n",
       "      <th>Aug</th>\n",
       "      <th>Sep</th>\n",
       "      <th>Oct</th>\n",
       "      <th>Nov</th>\n",
       "      <th>Dec</th>\n",
       "      <th>Yr Avg</th>\n",
       "    </tr>\n",
       "  </thead>\n",
       "  <tbody>\n",
       "    <tr>\n",
       "      <th>0</th>\n",
       "      <td>1980</td>\n",
       "      <td>AK</td>\n",
       "      <td>10.2</td>\n",
       "      <td>10.9</td>\n",
       "      <td>10.8</td>\n",
       "      <td>10.6</td>\n",
       "      <td>9.6</td>\n",
       "      <td>10.2</td>\n",
       "      <td>8.8</td>\n",
       "      <td>8.2</td>\n",
       "      <td>8.5</td>\n",
       "      <td>8.8</td>\n",
       "      <td>9.3</td>\n",
       "      <td>9.6</td>\n",
       "      <td>9.6</td>\n",
       "    </tr>\n",
       "    <tr>\n",
       "      <th>1</th>\n",
       "      <td>1981</td>\n",
       "      <td>AK</td>\n",
       "      <td>11.0</td>\n",
       "      <td>11.0</td>\n",
       "      <td>10.3</td>\n",
       "      <td>9.1</td>\n",
       "      <td>8.8</td>\n",
       "      <td>9.5</td>\n",
       "      <td>8.3</td>\n",
       "      <td>8.0</td>\n",
       "      <td>8.4</td>\n",
       "      <td>8.8</td>\n",
       "      <td>9.5</td>\n",
       "      <td>9.9</td>\n",
       "      <td>9.4</td>\n",
       "    </tr>\n",
       "    <tr>\n",
       "      <th>2</th>\n",
       "      <td>1982</td>\n",
       "      <td>AK</td>\n",
       "      <td>11.4</td>\n",
       "      <td>11.6</td>\n",
       "      <td>11.1</td>\n",
       "      <td>10.3</td>\n",
       "      <td>9.9</td>\n",
       "      <td>10.1</td>\n",
       "      <td>8.7</td>\n",
       "      <td>8.2</td>\n",
       "      <td>8.6</td>\n",
       "      <td>9.1</td>\n",
       "      <td>10.0</td>\n",
       "      <td>10.3</td>\n",
       "      <td>9.9</td>\n",
       "    </tr>\n",
       "  </tbody>\n",
       "</table>\n",
       "</div>"
      ],
      "text/plain": [
       "   Year State   Jan   Feb   Mar   Apr  May   Jun  Jul  Aug  Sep  Oct   Nov  \\\n",
       "0  1980    AK  10.2  10.9  10.8  10.6  9.6  10.2  8.8  8.2  8.5  8.8   9.3   \n",
       "1  1981    AK  11.0  11.0  10.3   9.1  8.8   9.5  8.3  8.0  8.4  8.8   9.5   \n",
       "2  1982    AK  11.4  11.6  11.1  10.3  9.9  10.1  8.7  8.2  8.6  9.1  10.0   \n",
       "\n",
       "    Dec  Yr Avg  \n",
       "0   9.6     9.6  \n",
       "1   9.9     9.4  \n",
       "2  10.3     9.9  "
      ]
     },
     "execution_count": 13,
     "metadata": {},
     "output_type": "execute_result"
    }
   ],
   "source": [
    "#### Unemployment Data, 1980-2018. Load and Clean.\n",
    "Unemployment_df =  pd.read_csv(\"../Resources/unemployment_by_state_1980_2018_BLSdata.csv\")\n",
    "Unemployment_df.head(3)"
   ]
  },
  {
   "cell_type": "code",
   "execution_count": 17,
   "metadata": {},
   "outputs": [
    {
     "name": "stdout",
     "output_type": "stream",
     "text": [
      "<class 'pandas.core.frame.DataFrame'>\n",
      "RangeIndex: 1989 entries, 0 to 1988\n",
      "Data columns (total 15 columns):\n",
      "Year      1989 non-null int64\n",
      "State     1989 non-null object\n",
      "Jan       1989 non-null float64\n",
      "Feb       1989 non-null float64\n",
      "Mar       1989 non-null float64\n",
      "Apr       1989 non-null float64\n",
      "May       1989 non-null float64\n",
      "Jun       1989 non-null float64\n",
      "Jul       1989 non-null float64\n",
      "Aug       1989 non-null float64\n",
      "Sep       1989 non-null float64\n",
      "Oct       1989 non-null float64\n",
      "Nov       1989 non-null float64\n",
      "Dec       1989 non-null float64\n",
      "Yr Avg    1989 non-null float64\n",
      "dtypes: float64(13), int64(1), object(1)\n",
      "memory usage: 233.2+ KB\n"
     ]
    }
   ],
   "source": [
    "## Data looks clean. No obvious transformations needed. Our target of aggravated assault has a full row counts of 1974.\n",
    "Unemployment_df.info(3)"
   ]
  },
  {
   "cell_type": "markdown",
   "metadata": {},
   "source": [
    "#### Suspects: Load raw csv, create dataframe and clean data."
   ]
  },
  {
   "cell_type": "code",
   "execution_count": 19,
   "metadata": {},
   "outputs": [
    {
     "data": {
      "text/html": [
       "<div>\n",
       "<style scoped>\n",
       "    .dataframe tbody tr th:only-of-type {\n",
       "        vertical-align: middle;\n",
       "    }\n",
       "\n",
       "    .dataframe tbody tr th {\n",
       "        vertical-align: top;\n",
       "    }\n",
       "\n",
       "    .dataframe thead th {\n",
       "        text-align: right;\n",
       "    }\n",
       "</style>\n",
       "<table border=\"1\" class=\"dataframe\">\n",
       "  <thead>\n",
       "    <tr style=\"text-align: right;\">\n",
       "      <th></th>\n",
       "      <th>caseID</th>\n",
       "      <th>personID</th>\n",
       "      <th>Age</th>\n",
       "      <th>Sex</th>\n",
       "    </tr>\n",
       "  </thead>\n",
       "  <tbody>\n",
       "    <tr>\n",
       "      <th>0</th>\n",
       "      <td>MP20010240</td>\n",
       "      <td>3877</td>\n",
       "      <td>16</td>\n",
       "      <td>MALE</td>\n",
       "    </tr>\n",
       "    <tr>\n",
       "      <th>1</th>\n",
       "      <td>MP20007353</td>\n",
       "      <td>2309</td>\n",
       "      <td>54</td>\n",
       "      <td>FEMALE</td>\n",
       "    </tr>\n",
       "    <tr>\n",
       "      <th>2</th>\n",
       "      <td>MP20010311</td>\n",
       "      <td>3570</td>\n",
       "      <td>23</td>\n",
       "      <td>MALE</td>\n",
       "    </tr>\n",
       "  </tbody>\n",
       "</table>\n",
       "</div>"
      ],
      "text/plain": [
       "       caseID  personID Age     Sex\n",
       "0  MP20010240      3877  16    MALE\n",
       "1  MP20007353      2309  54  FEMALE\n",
       "2  MP20010311      3570  23    MALE"
      ]
     },
     "execution_count": 19,
     "metadata": {},
     "output_type": "execute_result"
    }
   ],
   "source": [
    "# Load the suspects csv into a dataframe.\n",
    "suspects_raw_df = pd.read_csv(\"../Resources - MPD Data/suspectTable.csv\")\n",
    "suspects_raw_df.head(3)"
   ]
  },
  {
   "cell_type": "code",
   "execution_count": 20,
   "metadata": {},
   "outputs": [
    {
     "name": "stdout",
     "output_type": "stream",
     "text": [
      "<class 'pandas.core.frame.DataFrame'>\n",
      "RangeIndex: 1878 entries, 0 to 1877\n",
      "Data columns (total 4 columns):\n",
      "caseID      1878 non-null object\n",
      "personID    1878 non-null int64\n",
      "Age         1017 non-null object\n",
      "Sex         1003 non-null object\n",
      "dtypes: int64(1), object(3)\n",
      "memory usage: 58.8+ KB\n"
     ]
    }
   ],
   "source": [
    "# Review the suspects table structure\n",
    "suspects_raw_df.info()"
   ]
  },
  {
   "cell_type": "markdown",
   "metadata": {},
   "source": [
    "#### Victims: Load raw csv, create dataframe and clean data."
   ]
  },
  {
   "cell_type": "code",
   "execution_count": 21,
   "metadata": {},
   "outputs": [],
   "source": [
    "# Load the victims csv into a dataframe.\n",
    "victims_raw_df = pd.read_csv(\"../Resources - MPD Data/victimTable.csv\")"
   ]
  },
  {
   "cell_type": "code",
   "execution_count": 22,
   "metadata": {},
   "outputs": [
    {
     "name": "stdout",
     "output_type": "stream",
     "text": [
      "<class 'pandas.core.frame.DataFrame'>\n",
      "RangeIndex: 1738 entries, 0 to 1737\n",
      "Data columns (total 4 columns):\n",
      "caseID      1738 non-null object\n",
      "personID    1738 non-null int64\n",
      "Age         1738 non-null object\n",
      "Sex         1738 non-null object\n",
      "dtypes: int64(1), object(3)\n",
      "memory usage: 54.4+ KB\n"
     ]
    }
   ],
   "source": [
    "# Review the suspects table structure\n",
    "victims_raw_df.info()"
   ]
  },
  {
   "cell_type": "code",
   "execution_count": null,
   "metadata": {},
   "outputs": [],
   "source": []
  }
 ],
 "metadata": {
  "kernelspec": {
   "display_name": "PythonData",
   "language": "python",
   "name": "pythondata"
  },
  "language_info": {
   "codemirror_mode": {
    "name": "ipython",
    "version": 3
   },
   "file_extension": ".py",
   "mimetype": "text/x-python",
   "name": "python",
   "nbconvert_exporter": "python",
   "pygments_lexer": "ipython3",
   "version": "3.6.9"
  }
 },
 "nbformat": 4,
 "nbformat_minor": 2
}
