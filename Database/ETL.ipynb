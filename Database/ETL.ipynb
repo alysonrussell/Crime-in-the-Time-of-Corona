{
 "cells": [
  {
   "cell_type": "markdown",
   "metadata": {},
   "source": [
    "### Crime in the time of Corona - Create DB from raw CSV tables"
   ]
  },
  {
   "cell_type": "code",
   "execution_count": 2,
   "metadata": {},
   "outputs": [],
   "source": [
    "## Add dependencies: Pandas\n",
    "import pandas as pd\n",
    "import os # needed to use the os.path.join method to load the files\n",
    "from sqlalchemy import create_engine # for integrating with PostgreSQL\n",
    "from config import db_password"
   ]
  },
  {
   "cell_type": "markdown",
   "metadata": {},
   "source": [
    "#### Incidents: Load raw csv, create dataframe and clean data."
   ]
  },
  {
   "cell_type": "code",
   "execution_count": 14,
   "metadata": {},
   "outputs": [],
   "source": [
    "# Load the incidentTable.csv into a dataframe.\n",
    "incidents_raw_df = pd.read_csv(\"../Resources - MPD Data/incidentTable.csv\")"
   ]
  },
  {
   "cell_type": "code",
   "execution_count": 16,
   "metadata": {
    "scrolled": true
   },
   "outputs": [
    {
     "name": "stdout",
     "output_type": "stream",
     "text": [
      "<class 'pandas.core.frame.DataFrame'>\n",
      "RangeIndex: 1789 entries, 0 to 1788\n",
      "Data columns (total 16 columns):\n",
      "Number                1789 non-null object\n",
      "dateReported          1788 non-null object\n",
      "startDate             1788 non-null object\n",
      "offenseCode           1789 non-null object\n",
      "offenseDescription    1789 non-null object\n",
      "streetAddress         1784 non-null object\n",
      "cityDescription       1739 non-null object\n",
      "stateDescription      1225 non-null object\n",
      "zipCode               1517 non-null object\n",
      "longitude             1764 non-null float64\n",
      "latitude              1764 non-null float64\n",
      "Booked                1789 non-null int64\n",
      "DAComplaint           1789 non-null int64\n",
      "Cited                 1789 non-null int64\n",
      "burglaryFactor        351 non-null object\n",
      "felonyMisdemeanor     1720 non-null object\n",
      "dtypes: float64(2), int64(3), object(11)\n",
      "memory usage: 223.8+ KB\n"
     ]
    }
   ],
   "source": [
    "# Review the incidentstable structure\n",
    "incidents_raw_df.info()"
   ]
  },
  {
   "cell_type": "code",
   "execution_count": 17,
   "metadata": {},
   "outputs": [
    {
     "data": {
      "text/html": [
       "<div>\n",
       "<style scoped>\n",
       "    .dataframe tbody tr th:only-of-type {\n",
       "        vertical-align: middle;\n",
       "    }\n",
       "\n",
       "    .dataframe tbody tr th {\n",
       "        vertical-align: top;\n",
       "    }\n",
       "\n",
       "    .dataframe thead th {\n",
       "        text-align: right;\n",
       "    }\n",
       "</style>\n",
       "<table border=\"1\" class=\"dataframe\">\n",
       "  <thead>\n",
       "    <tr style=\"text-align: right;\">\n",
       "      <th></th>\n",
       "      <th>Number</th>\n",
       "      <th>dateReported</th>\n",
       "      <th>startDate</th>\n",
       "      <th>offenseCode</th>\n",
       "      <th>offenseDescription</th>\n",
       "      <th>streetAddress</th>\n",
       "      <th>cityDescription</th>\n",
       "      <th>stateDescription</th>\n",
       "      <th>zipCode</th>\n",
       "      <th>longitude</th>\n",
       "      <th>latitude</th>\n",
       "      <th>Booked</th>\n",
       "      <th>DAComplaint</th>\n",
       "      <th>Cited</th>\n",
       "      <th>burglaryFactor</th>\n",
       "      <th>felonyMisdemeanor</th>\n",
       "    </tr>\n",
       "  </thead>\n",
       "  <tbody>\n",
       "    <tr>\n",
       "      <th>0</th>\n",
       "      <td>MP19037614</td>\n",
       "      <td>Dec 31, 2019, 7:10:57 PM</td>\n",
       "      <td>Dec 31, 2019, 7:00:00 PM</td>\n",
       "      <td>245 (A)(1) PC</td>\n",
       "      <td>245 (A)(1) PC FORCE OR ADW NOT FIREARM:GBI LIK...</td>\n",
       "      <td>OAKDALE RD &amp; FLOYD AVE</td>\n",
       "      <td>MODESTO</td>\n",
       "      <td>CALIFORNIA</td>\n",
       "      <td>95355</td>\n",
       "      <td>-120.957770</td>\n",
       "      <td>37.678080</td>\n",
       "      <td>0</td>\n",
       "      <td>0</td>\n",
       "      <td>0</td>\n",
       "      <td>NaN</td>\n",
       "      <td>FELONY</td>\n",
       "    </tr>\n",
       "    <tr>\n",
       "      <th>1</th>\n",
       "      <td>MP19037565</td>\n",
       "      <td>Dec 31, 2019, 9:01:31 AM</td>\n",
       "      <td>Dec 31, 2019, 12:30:00 AM</td>\n",
       "      <td>460(B) PC</td>\n",
       "      <td>460(B) PC BURGLARY: VEHICLE/LARCENY 06 Theft 2190</td>\n",
       "      <td>3120 PELANDALE AVE</td>\n",
       "      <td>MO</td>\n",
       "      <td>CALIFORNIA</td>\n",
       "      <td>NaN</td>\n",
       "      <td>-121.052988</td>\n",
       "      <td>37.699369</td>\n",
       "      <td>0</td>\n",
       "      <td>0</td>\n",
       "      <td>0</td>\n",
       "      <td>NaN</td>\n",
       "      <td>FELONY</td>\n",
       "    </tr>\n",
       "    <tr>\n",
       "      <th>2</th>\n",
       "      <td>MP19037555</td>\n",
       "      <td>Dec 31, 2019, 8:12:40 AM</td>\n",
       "      <td>Dec 31, 2019, 5:00:00 AM</td>\n",
       "      <td>460(B) PC</td>\n",
       "      <td>460(B) PC BURGLARY: VEHICLE/LARCENY 06 Theft 2190</td>\n",
       "      <td>3120 PELANDALE AVE</td>\n",
       "      <td>MODESTO</td>\n",
       "      <td>CALIFORNIA</td>\n",
       "      <td>95356</td>\n",
       "      <td>-121.053001</td>\n",
       "      <td>37.699374</td>\n",
       "      <td>0</td>\n",
       "      <td>0</td>\n",
       "      <td>0</td>\n",
       "      <td>NaN</td>\n",
       "      <td>FELONY</td>\n",
       "    </tr>\n",
       "    <tr>\n",
       "      <th>3</th>\n",
       "      <td>MP19037568</td>\n",
       "      <td>Dec 31, 2019, 9:36:26 AM</td>\n",
       "      <td>Dec 31, 2019, 9:30:00 AM</td>\n",
       "      <td>460 (A) PC</td>\n",
       "      <td>460 (A) PC BURGLARY:FIRST DEGREE 05 Burglary -...</td>\n",
       "      <td>2129 CLAYMONT DR</td>\n",
       "      <td>MODESTO</td>\n",
       "      <td>CALIFORNIA</td>\n",
       "      <td>95350</td>\n",
       "      <td>-121.033225</td>\n",
       "      <td>37.687181</td>\n",
       "      <td>1</td>\n",
       "      <td>0</td>\n",
       "      <td>0</td>\n",
       "      <td>RESIDENCE - DAY (6AM - 6PM)</td>\n",
       "      <td>FELONY</td>\n",
       "    </tr>\n",
       "    <tr>\n",
       "      <th>4</th>\n",
       "      <td>MP19037568</td>\n",
       "      <td>Dec 31, 2019, 9:36:26 AM</td>\n",
       "      <td>Dec 31, 2019, 9:30:00 AM</td>\n",
       "      <td>10851 VC</td>\n",
       "      <td>10851 VC AUTO THEFT 07 Motor Vehicle Theft 44</td>\n",
       "      <td>2129 CLAYMONT DR</td>\n",
       "      <td>MODESTO</td>\n",
       "      <td>CALIFORNIA</td>\n",
       "      <td>95350</td>\n",
       "      <td>-121.033225</td>\n",
       "      <td>37.687181</td>\n",
       "      <td>1</td>\n",
       "      <td>0</td>\n",
       "      <td>0</td>\n",
       "      <td>NaN</td>\n",
       "      <td>FELONY</td>\n",
       "    </tr>\n",
       "  </tbody>\n",
       "</table>\n",
       "</div>"
      ],
      "text/plain": [
       "       Number              dateReported                  startDate  \\\n",
       "0  MP19037614  Dec 31, 2019, 7:10:57 PM   Dec 31, 2019, 7:00:00 PM   \n",
       "1  MP19037565  Dec 31, 2019, 9:01:31 AM  Dec 31, 2019, 12:30:00 AM   \n",
       "2  MP19037555  Dec 31, 2019, 8:12:40 AM   Dec 31, 2019, 5:00:00 AM   \n",
       "3  MP19037568  Dec 31, 2019, 9:36:26 AM   Dec 31, 2019, 9:30:00 AM   \n",
       "4  MP19037568  Dec 31, 2019, 9:36:26 AM   Dec 31, 2019, 9:30:00 AM   \n",
       "\n",
       "     offenseCode                                 offenseDescription  \\\n",
       "0  245 (A)(1) PC  245 (A)(1) PC FORCE OR ADW NOT FIREARM:GBI LIK...   \n",
       "1      460(B) PC  460(B) PC BURGLARY: VEHICLE/LARCENY 06 Theft 2190   \n",
       "2      460(B) PC  460(B) PC BURGLARY: VEHICLE/LARCENY 06 Theft 2190   \n",
       "3     460 (A) PC  460 (A) PC BURGLARY:FIRST DEGREE 05 Burglary -...   \n",
       "4       10851 VC      10851 VC AUTO THEFT 07 Motor Vehicle Theft 44   \n",
       "\n",
       "            streetAddress cityDescription stateDescription zipCode  \\\n",
       "0  OAKDALE RD & FLOYD AVE         MODESTO       CALIFORNIA   95355   \n",
       "1      3120 PELANDALE AVE              MO       CALIFORNIA     NaN   \n",
       "2      3120 PELANDALE AVE         MODESTO       CALIFORNIA   95356   \n",
       "3        2129 CLAYMONT DR         MODESTO       CALIFORNIA   95350   \n",
       "4        2129 CLAYMONT DR         MODESTO       CALIFORNIA   95350   \n",
       "\n",
       "    longitude   latitude  Booked  DAComplaint  Cited  \\\n",
       "0 -120.957770  37.678080       0            0      0   \n",
       "1 -121.052988  37.699369       0            0      0   \n",
       "2 -121.053001  37.699374       0            0      0   \n",
       "3 -121.033225  37.687181       1            0      0   \n",
       "4 -121.033225  37.687181       1            0      0   \n",
       "\n",
       "                burglaryFactor felonyMisdemeanor  \n",
       "0                          NaN            FELONY  \n",
       "1                          NaN            FELONY  \n",
       "2                          NaN            FELONY  \n",
       "3  RESIDENCE - DAY (6AM - 6PM)            FELONY  \n",
       "4                          NaN            FELONY  "
      ]
     },
     "execution_count": 17,
     "metadata": {},
     "output_type": "execute_result"
    }
   ],
   "source": [
    "# Review the incidents data\n",
    "incidents_raw_df.head()"
   ]
  },
  {
   "cell_type": "markdown",
   "metadata": {},
   "source": [
    "#### Suspects: Load raw csv, create dataframe and clean data."
   ]
  },
  {
   "cell_type": "code",
   "execution_count": 19,
   "metadata": {},
   "outputs": [],
   "source": [
    "# Load the suspects csv into a dataframe.\n",
    "suspects_raw_df = pd.read_csv(\"../Resources - MPD Data/suspectTable.csv\")"
   ]
  },
  {
   "cell_type": "code",
   "execution_count": 20,
   "metadata": {},
   "outputs": [
    {
     "name": "stdout",
     "output_type": "stream",
     "text": [
      "<class 'pandas.core.frame.DataFrame'>\n",
      "RangeIndex: 1890 entries, 0 to 1889\n",
      "Data columns (total 5 columns):\n",
      "caseID        1878 non-null object\n",
      "personID      1878 non-null float64\n",
      "Age           1017 non-null object\n",
      "Sex           1003 non-null object\n",
      "Unnamed: 4    0 non-null float64\n",
      "dtypes: float64(2), object(3)\n",
      "memory usage: 74.0+ KB\n"
     ]
    }
   ],
   "source": [
    "# Review the suspects table structure\n",
    "suspects_raw_df.info()"
   ]
  },
  {
   "cell_type": "code",
   "execution_count": 22,
   "metadata": {},
   "outputs": [
    {
     "data": {
      "text/html": [
       "<div>\n",
       "<style scoped>\n",
       "    .dataframe tbody tr th:only-of-type {\n",
       "        vertical-align: middle;\n",
       "    }\n",
       "\n",
       "    .dataframe tbody tr th {\n",
       "        vertical-align: top;\n",
       "    }\n",
       "\n",
       "    .dataframe thead th {\n",
       "        text-align: right;\n",
       "    }\n",
       "</style>\n",
       "<table border=\"1\" class=\"dataframe\">\n",
       "  <thead>\n",
       "    <tr style=\"text-align: right;\">\n",
       "      <th></th>\n",
       "      <th>caseID</th>\n",
       "      <th>personID</th>\n",
       "      <th>Age</th>\n",
       "      <th>Sex</th>\n",
       "      <th>Unnamed: 4</th>\n",
       "    </tr>\n",
       "  </thead>\n",
       "  <tbody>\n",
       "    <tr>\n",
       "      <th>0</th>\n",
       "      <td>MP20010240</td>\n",
       "      <td>3877.0</td>\n",
       "      <td>16</td>\n",
       "      <td>MALE</td>\n",
       "      <td>NaN</td>\n",
       "    </tr>\n",
       "    <tr>\n",
       "      <th>1</th>\n",
       "      <td>MP20007353</td>\n",
       "      <td>2309.0</td>\n",
       "      <td>54</td>\n",
       "      <td>FEMALE</td>\n",
       "      <td>NaN</td>\n",
       "    </tr>\n",
       "    <tr>\n",
       "      <th>2</th>\n",
       "      <td>MP20010311</td>\n",
       "      <td>3570.0</td>\n",
       "      <td>23</td>\n",
       "      <td>MALE</td>\n",
       "      <td>NaN</td>\n",
       "    </tr>\n",
       "    <tr>\n",
       "      <th>3</th>\n",
       "      <td>MP20006201</td>\n",
       "      <td>4931.0</td>\n",
       "      <td>NaN</td>\n",
       "      <td>NaN</td>\n",
       "      <td>NaN</td>\n",
       "    </tr>\n",
       "    <tr>\n",
       "      <th>4</th>\n",
       "      <td>MP20009508</td>\n",
       "      <td>3986.0</td>\n",
       "      <td>23</td>\n",
       "      <td>MALE</td>\n",
       "      <td>NaN</td>\n",
       "    </tr>\n",
       "  </tbody>\n",
       "</table>\n",
       "</div>"
      ],
      "text/plain": [
       "       caseID  personID  Age     Sex  Unnamed: 4\n",
       "0  MP20010240    3877.0   16    MALE         NaN\n",
       "1  MP20007353    2309.0   54  FEMALE         NaN\n",
       "2  MP20010311    3570.0   23    MALE         NaN\n",
       "3  MP20006201    4931.0  NaN     NaN         NaN\n",
       "4  MP20009508    3986.0   23    MALE         NaN"
      ]
     },
     "execution_count": 22,
     "metadata": {},
     "output_type": "execute_result"
    }
   ],
   "source": [
    "# Review the suspects data\n",
    "suspects_raw_df.head()"
   ]
  },
  {
   "cell_type": "markdown",
   "metadata": {},
   "source": [
    "#### Victims: Load raw csv, create dataframe and clean data."
   ]
  },
  {
   "cell_type": "code",
   "execution_count": 23,
   "metadata": {},
   "outputs": [],
   "source": [
    "# Load the victims csv into a dataframe.\n",
    "victims_raw_df = pd.read_csv(\"../Resources - MPD Data/victimTable.csv\")"
   ]
  },
  {
   "cell_type": "code",
   "execution_count": 24,
   "metadata": {},
   "outputs": [
    {
     "name": "stdout",
     "output_type": "stream",
     "text": [
      "<class 'pandas.core.frame.DataFrame'>\n",
      "RangeIndex: 1738 entries, 0 to 1737\n",
      "Data columns (total 4 columns):\n",
      "caseID      1738 non-null object\n",
      "personID    1738 non-null int64\n",
      "Age         1738 non-null object\n",
      "Sex         1738 non-null object\n",
      "dtypes: int64(1), object(3)\n",
      "memory usage: 54.4+ KB\n"
     ]
    }
   ],
   "source": [
    "# Review the suspects table structure\n",
    "victims_raw_df.info()"
   ]
  },
  {
   "cell_type": "code",
   "execution_count": 25,
   "metadata": {},
   "outputs": [
    {
     "data": {
      "text/html": [
       "<div>\n",
       "<style scoped>\n",
       "    .dataframe tbody tr th:only-of-type {\n",
       "        vertical-align: middle;\n",
       "    }\n",
       "\n",
       "    .dataframe tbody tr th {\n",
       "        vertical-align: top;\n",
       "    }\n",
       "\n",
       "    .dataframe thead th {\n",
       "        text-align: right;\n",
       "    }\n",
       "</style>\n",
       "<table border=\"1\" class=\"dataframe\">\n",
       "  <thead>\n",
       "    <tr style=\"text-align: right;\">\n",
       "      <th></th>\n",
       "      <th>caseID</th>\n",
       "      <th>personID</th>\n",
       "      <th>Age</th>\n",
       "      <th>Sex</th>\n",
       "    </tr>\n",
       "  </thead>\n",
       "  <tbody>\n",
       "    <tr>\n",
       "      <th>0</th>\n",
       "      <td>MP19035391</td>\n",
       "      <td>2938</td>\n",
       "      <td>35</td>\n",
       "      <td>FEMALE</td>\n",
       "    </tr>\n",
       "    <tr>\n",
       "      <th>1</th>\n",
       "      <td>MP19036742</td>\n",
       "      <td>2855</td>\n",
       "      <td>37</td>\n",
       "      <td>FEMALE</td>\n",
       "    </tr>\n",
       "    <tr>\n",
       "      <th>2</th>\n",
       "      <td>MP19037368</td>\n",
       "      <td>2399</td>\n",
       "      <td>50</td>\n",
       "      <td>MALE</td>\n",
       "    </tr>\n",
       "    <tr>\n",
       "      <th>3</th>\n",
       "      <td>MP19037420</td>\n",
       "      <td>3638</td>\n",
       "      <td>22</td>\n",
       "      <td>FEMALE</td>\n",
       "    </tr>\n",
       "    <tr>\n",
       "      <th>4</th>\n",
       "      <td>MP19037447</td>\n",
       "      <td>3885</td>\n",
       "      <td>15</td>\n",
       "      <td>FEMALE</td>\n",
       "    </tr>\n",
       "  </tbody>\n",
       "</table>\n",
       "</div>"
      ],
      "text/plain": [
       "       caseID  personID Age     Sex\n",
       "0  MP19035391      2938  35  FEMALE\n",
       "1  MP19036742      2855  37  FEMALE\n",
       "2  MP19037368      2399  50    MALE\n",
       "3  MP19037420      3638  22  FEMALE\n",
       "4  MP19037447      3885  15  FEMALE"
      ]
     },
     "execution_count": 25,
     "metadata": {},
     "output_type": "execute_result"
    }
   ],
   "source": [
    "# Review the suspects data\n",
    "victims_raw_df.head()"
   ]
  },
  {
   "cell_type": "code",
   "execution_count": null,
   "metadata": {},
   "outputs": [],
   "source": []
  }
 ],
 "metadata": {
  "kernelspec": {
   "display_name": "PythonData",
   "language": "python",
   "name": "pythondata"
  },
  "language_info": {
   "codemirror_mode": {
    "name": "ipython",
    "version": 3
   },
   "file_extension": ".py",
   "mimetype": "text/x-python",
   "name": "python",
   "nbconvert_exporter": "python",
   "pygments_lexer": "ipython3",
   "version": "3.6.9"
  }
 },
 "nbformat": 4,
 "nbformat_minor": 2
}
