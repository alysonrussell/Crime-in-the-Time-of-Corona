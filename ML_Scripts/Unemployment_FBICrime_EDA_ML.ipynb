{
 "cells": [
  {
   "cell_type": "markdown",
   "metadata": {},
   "source": [
    "Clustering of Unemployment and Crime Data"
   ]
  },
  {
   "cell_type": "code",
   "execution_count": 1,
   "metadata": {},
   "outputs": [],
   "source": [
    "import pandas as pd"
   ]
  },
  {
   "cell_type": "code",
   "execution_count": 2,
   "metadata": {},
   "outputs": [],
   "source": [
    "# Import Data\n",
    "\n",
    "# Create DataFrame from Unemployment Data\n",
    "unemp_file_path = \"Resources/unemployment_by_state_1980_2018_BLSdata.csv\"\n",
    "unemp_df = pd.read_csv(unemp_file_path)\n",
    "\n",
    "# Create DataFrame from FBI UCR Crime data\n",
    "crime_file_path = \"Resources/est_crimes_1980_2018_FBI_UCRdata.csv\"\n",
    "fbi_crime_df = pd.read_csv(crime_file_path)"
   ]
  },
  {
   "cell_type": "markdown",
   "metadata": {},
   "source": [
    "Unemployment EDA"
   ]
  },
  {
   "cell_type": "code",
   "execution_count": 3,
   "metadata": {},
   "outputs": [
    {
     "data": {
      "text/html": [
       "<div>\n",
       "<style scoped>\n",
       "    .dataframe tbody tr th:only-of-type {\n",
       "        vertical-align: middle;\n",
       "    }\n",
       "\n",
       "    .dataframe tbody tr th {\n",
       "        vertical-align: top;\n",
       "    }\n",
       "\n",
       "    .dataframe thead th {\n",
       "        text-align: right;\n",
       "    }\n",
       "</style>\n",
       "<table border=\"1\" class=\"dataframe\">\n",
       "  <thead>\n",
       "    <tr style=\"text-align: right;\">\n",
       "      <th></th>\n",
       "      <th>Year</th>\n",
       "      <th>State</th>\n",
       "      <th>Jan</th>\n",
       "      <th>Feb</th>\n",
       "      <th>Mar</th>\n",
       "      <th>Apr</th>\n",
       "      <th>May</th>\n",
       "      <th>Jun</th>\n",
       "      <th>Jul</th>\n",
       "      <th>Aug</th>\n",
       "      <th>Sep</th>\n",
       "      <th>Oct</th>\n",
       "      <th>Nov</th>\n",
       "      <th>Dec</th>\n",
       "      <th>Yr Avg</th>\n",
       "    </tr>\n",
       "  </thead>\n",
       "  <tbody>\n",
       "    <tr>\n",
       "      <th>0</th>\n",
       "      <td>1980</td>\n",
       "      <td>AK</td>\n",
       "      <td>10.2</td>\n",
       "      <td>10.9</td>\n",
       "      <td>10.8</td>\n",
       "      <td>10.6</td>\n",
       "      <td>9.6</td>\n",
       "      <td>10.2</td>\n",
       "      <td>8.8</td>\n",
       "      <td>8.2</td>\n",
       "      <td>8.5</td>\n",
       "      <td>8.8</td>\n",
       "      <td>9.3</td>\n",
       "      <td>9.6</td>\n",
       "      <td>9.6</td>\n",
       "    </tr>\n",
       "    <tr>\n",
       "      <th>1</th>\n",
       "      <td>1981</td>\n",
       "      <td>AK</td>\n",
       "      <td>11.0</td>\n",
       "      <td>11.0</td>\n",
       "      <td>10.3</td>\n",
       "      <td>9.1</td>\n",
       "      <td>8.8</td>\n",
       "      <td>9.5</td>\n",
       "      <td>8.3</td>\n",
       "      <td>8.0</td>\n",
       "      <td>8.4</td>\n",
       "      <td>8.8</td>\n",
       "      <td>9.5</td>\n",
       "      <td>9.9</td>\n",
       "      <td>9.4</td>\n",
       "    </tr>\n",
       "    <tr>\n",
       "      <th>2</th>\n",
       "      <td>1982</td>\n",
       "      <td>AK</td>\n",
       "      <td>11.4</td>\n",
       "      <td>11.6</td>\n",
       "      <td>11.1</td>\n",
       "      <td>10.3</td>\n",
       "      <td>9.9</td>\n",
       "      <td>10.1</td>\n",
       "      <td>8.7</td>\n",
       "      <td>8.2</td>\n",
       "      <td>8.6</td>\n",
       "      <td>9.1</td>\n",
       "      <td>10.0</td>\n",
       "      <td>10.3</td>\n",
       "      <td>9.9</td>\n",
       "    </tr>\n",
       "  </tbody>\n",
       "</table>\n",
       "</div>"
      ],
      "text/plain": [
       "   Year State   Jan   Feb   Mar   Apr  May   Jun  Jul  Aug  Sep  Oct   Nov  \\\n",
       "0  1980    AK  10.2  10.9  10.8  10.6  9.6  10.2  8.8  8.2  8.5  8.8   9.3   \n",
       "1  1981    AK  11.0  11.0  10.3   9.1  8.8   9.5  8.3  8.0  8.4  8.8   9.5   \n",
       "2  1982    AK  11.4  11.6  11.1  10.3  9.9  10.1  8.7  8.2  8.6  9.1  10.0   \n",
       "\n",
       "    Dec  Yr Avg  \n",
       "0   9.6     9.6  \n",
       "1   9.9     9.4  \n",
       "2  10.3     9.9  "
      ]
     },
     "execution_count": 3,
     "metadata": {},
     "output_type": "execute_result"
    }
   ],
   "source": [
    "unemp_df.head(3)"
   ]
  },
  {
   "cell_type": "code",
   "execution_count": 4,
   "metadata": {},
   "outputs": [
    {
     "data": {
      "text/html": [
       "<div>\n",
       "<style scoped>\n",
       "    .dataframe tbody tr th:only-of-type {\n",
       "        vertical-align: middle;\n",
       "    }\n",
       "\n",
       "    .dataframe tbody tr th {\n",
       "        vertical-align: top;\n",
       "    }\n",
       "\n",
       "    .dataframe thead th {\n",
       "        text-align: right;\n",
       "    }\n",
       "</style>\n",
       "<table border=\"1\" class=\"dataframe\">\n",
       "  <thead>\n",
       "    <tr style=\"text-align: right;\">\n",
       "      <th></th>\n",
       "      <th>Year</th>\n",
       "      <th>State</th>\n",
       "      <th>Yr Avg</th>\n",
       "    </tr>\n",
       "  </thead>\n",
       "  <tbody>\n",
       "    <tr>\n",
       "      <th>0</th>\n",
       "      <td>1980</td>\n",
       "      <td>AK</td>\n",
       "      <td>9.6</td>\n",
       "    </tr>\n",
       "    <tr>\n",
       "      <th>1</th>\n",
       "      <td>1981</td>\n",
       "      <td>AK</td>\n",
       "      <td>9.4</td>\n",
       "    </tr>\n",
       "    <tr>\n",
       "      <th>2</th>\n",
       "      <td>1982</td>\n",
       "      <td>AK</td>\n",
       "      <td>9.9</td>\n",
       "    </tr>\n",
       "  </tbody>\n",
       "</table>\n",
       "</div>"
      ],
      "text/plain": [
       "   Year State  Yr Avg\n",
       "0  1980    AK     9.6\n",
       "1  1981    AK     9.4\n",
       "2  1982    AK     9.9"
      ]
     },
     "execution_count": 4,
     "metadata": {},
     "output_type": "execute_result"
    }
   ],
   "source": [
    "# Create a new DataFrame with columns Year, State, Average\n",
    "unemp_df = unemp_df.drop(columns=[\"Jan\",\"Feb\",\"Mar\",\"Apr\",\"May\",\"Jun\",\"Jul\",\"Aug\",\"Sep\",\"Oct\",\"Nov\",\"Dec\"])\n",
    "unemp_df.head(3)"
   ]
  },
  {
   "cell_type": "code",
   "execution_count": 5,
   "metadata": {},
   "outputs": [],
   "source": [
    "# Combine Year / State into a single ID Column, drop Individual columns\n",
    "unemp_df[\"Year\"] = unemp_df[\"Year\"].astype(str)\n",
    "unemp_df[\"YrSt_ID\"] = unemp_df[\"Year\"] +\" - \"+ unemp_df[\"State\"]\n",
    "unemp_df = unemp_df.drop(columns=[\"Year\",\"State\"])"
   ]
  },
  {
   "cell_type": "code",
   "execution_count": 6,
   "metadata": {},
   "outputs": [
    {
     "data": {
      "text/html": [
       "<div>\n",
       "<style scoped>\n",
       "    .dataframe tbody tr th:only-of-type {\n",
       "        vertical-align: middle;\n",
       "    }\n",
       "\n",
       "    .dataframe tbody tr th {\n",
       "        vertical-align: top;\n",
       "    }\n",
       "\n",
       "    .dataframe thead th {\n",
       "        text-align: right;\n",
       "    }\n",
       "</style>\n",
       "<table border=\"1\" class=\"dataframe\">\n",
       "  <thead>\n",
       "    <tr style=\"text-align: right;\">\n",
       "      <th></th>\n",
       "      <th>YrSt_ID</th>\n",
       "      <th>Unemp_Yr_Avg</th>\n",
       "    </tr>\n",
       "  </thead>\n",
       "  <tbody>\n",
       "    <tr>\n",
       "      <th>0</th>\n",
       "      <td>1980 - AK</td>\n",
       "      <td>9.6</td>\n",
       "    </tr>\n",
       "    <tr>\n",
       "      <th>1</th>\n",
       "      <td>1981 - AK</td>\n",
       "      <td>9.4</td>\n",
       "    </tr>\n",
       "    <tr>\n",
       "      <th>2</th>\n",
       "      <td>1982 - AK</td>\n",
       "      <td>9.9</td>\n",
       "    </tr>\n",
       "  </tbody>\n",
       "</table>\n",
       "</div>"
      ],
      "text/plain": [
       "     YrSt_ID  Unemp_Yr_Avg\n",
       "0  1980 - AK           9.6\n",
       "1  1981 - AK           9.4\n",
       "2  1982 - AK           9.9"
      ]
     },
     "execution_count": 6,
     "metadata": {},
     "output_type": "execute_result"
    }
   ],
   "source": [
    "unemp_df = unemp_df[[\"YrSt_ID\",\"Yr Avg\"]]\n",
    "unemp_df = unemp_df.rename(columns={\"Yr Avg\":\"Unemp_Yr_Avg\"})\n",
    "unemp_df.head(3)"
   ]
  },
  {
   "cell_type": "code",
   "execution_count": 7,
   "metadata": {},
   "outputs": [
    {
     "data": {
      "text/html": [
       "<div>\n",
       "<style scoped>\n",
       "    .dataframe tbody tr th:only-of-type {\n",
       "        vertical-align: middle;\n",
       "    }\n",
       "\n",
       "    .dataframe tbody tr th {\n",
       "        vertical-align: top;\n",
       "    }\n",
       "\n",
       "    .dataframe thead th {\n",
       "        text-align: right;\n",
       "    }\n",
       "</style>\n",
       "<table border=\"1\" class=\"dataframe\">\n",
       "  <thead>\n",
       "    <tr style=\"text-align: right;\">\n",
       "      <th></th>\n",
       "      <th>Unemp_Yr_Avg</th>\n",
       "    </tr>\n",
       "    <tr>\n",
       "      <th>YrSt_ID</th>\n",
       "      <th></th>\n",
       "    </tr>\n",
       "  </thead>\n",
       "  <tbody>\n",
       "    <tr>\n",
       "      <th>1980 - AK</th>\n",
       "      <td>9.6</td>\n",
       "    </tr>\n",
       "    <tr>\n",
       "      <th>1981 - AK</th>\n",
       "      <td>9.4</td>\n",
       "    </tr>\n",
       "    <tr>\n",
       "      <th>1982 - AK</th>\n",
       "      <td>9.9</td>\n",
       "    </tr>\n",
       "  </tbody>\n",
       "</table>\n",
       "</div>"
      ],
      "text/plain": [
       "           Unemp_Yr_Avg\n",
       "YrSt_ID                \n",
       "1980 - AK           9.6\n",
       "1981 - AK           9.4\n",
       "1982 - AK           9.9"
      ]
     },
     "execution_count": 7,
     "metadata": {},
     "output_type": "execute_result"
    }
   ],
   "source": [
    "unemp_df = unemp_df.set_index(\"YrSt_ID\")\n",
    "unemp_df.head(3)"
   ]
  },
  {
   "cell_type": "markdown",
   "metadata": {},
   "source": [
    "FBI Crime EDA\n",
    "    - Create two dataframes one for violent crime field, a second for just aggravated assault"
   ]
  },
  {
   "cell_type": "code",
   "execution_count": 8,
   "metadata": {},
   "outputs": [
    {
     "data": {
      "text/html": [
       "<div>\n",
       "<style scoped>\n",
       "    .dataframe tbody tr th:only-of-type {\n",
       "        vertical-align: middle;\n",
       "    }\n",
       "\n",
       "    .dataframe tbody tr th {\n",
       "        vertical-align: top;\n",
       "    }\n",
       "\n",
       "    .dataframe thead th {\n",
       "        text-align: right;\n",
       "    }\n",
       "</style>\n",
       "<table border=\"1\" class=\"dataframe\">\n",
       "  <thead>\n",
       "    <tr style=\"text-align: right;\">\n",
       "      <th></th>\n",
       "      <th>year</th>\n",
       "      <th>state_abbr</th>\n",
       "      <th>population</th>\n",
       "      <th>violent_crime</th>\n",
       "      <th>homicide</th>\n",
       "      <th>rape_legacy</th>\n",
       "      <th>rape_revised</th>\n",
       "      <th>robbery</th>\n",
       "      <th>aggravated_assault</th>\n",
       "    </tr>\n",
       "  </thead>\n",
       "  <tbody>\n",
       "    <tr>\n",
       "      <th>0</th>\n",
       "      <td>1980</td>\n",
       "      <td>AK</td>\n",
       "      <td>440142</td>\n",
       "      <td>1919</td>\n",
       "      <td>39</td>\n",
       "      <td>250.0</td>\n",
       "      <td>NaN</td>\n",
       "      <td>360</td>\n",
       "      <td>1270</td>\n",
       "    </tr>\n",
       "    <tr>\n",
       "      <th>1</th>\n",
       "      <td>1980</td>\n",
       "      <td>AL</td>\n",
       "      <td>3861466</td>\n",
       "      <td>17320</td>\n",
       "      <td>509</td>\n",
       "      <td>1158.0</td>\n",
       "      <td>NaN</td>\n",
       "      <td>5102</td>\n",
       "      <td>10551</td>\n",
       "    </tr>\n",
       "    <tr>\n",
       "      <th>2</th>\n",
       "      <td>1980</td>\n",
       "      <td>AR</td>\n",
       "      <td>2284037</td>\n",
       "      <td>7656</td>\n",
       "      <td>210</td>\n",
       "      <td>609.0</td>\n",
       "      <td>NaN</td>\n",
       "      <td>1848</td>\n",
       "      <td>4989</td>\n",
       "    </tr>\n",
       "  </tbody>\n",
       "</table>\n",
       "</div>"
      ],
      "text/plain": [
       "   year state_abbr  population  violent_crime  homicide  rape_legacy  \\\n",
       "0  1980         AK      440142           1919        39        250.0   \n",
       "1  1980         AL     3861466          17320       509       1158.0   \n",
       "2  1980         AR     2284037           7656       210        609.0   \n",
       "\n",
       "   rape_revised  robbery  aggravated_assault  \n",
       "0           NaN      360                1270  \n",
       "1           NaN     5102               10551  \n",
       "2           NaN     1848                4989  "
      ]
     },
     "execution_count": 8,
     "metadata": {},
     "output_type": "execute_result"
    }
   ],
   "source": [
    "fbi_crime_df.head(3)"
   ]
  },
  {
   "cell_type": "code",
   "execution_count": 10,
   "metadata": {},
   "outputs": [
    {
     "data": {
      "text/html": [
       "<div>\n",
       "<style scoped>\n",
       "    .dataframe tbody tr th:only-of-type {\n",
       "        vertical-align: middle;\n",
       "    }\n",
       "\n",
       "    .dataframe tbody tr th {\n",
       "        vertical-align: top;\n",
       "    }\n",
       "\n",
       "    .dataframe thead th {\n",
       "        text-align: right;\n",
       "    }\n",
       "</style>\n",
       "<table border=\"1\" class=\"dataframe\">\n",
       "  <thead>\n",
       "    <tr style=\"text-align: right;\">\n",
       "      <th></th>\n",
       "      <th>year</th>\n",
       "      <th>state_abbr</th>\n",
       "      <th>population</th>\n",
       "      <th>violent_crime</th>\n",
       "      <th>aggravated_assault</th>\n",
       "    </tr>\n",
       "  </thead>\n",
       "  <tbody>\n",
       "    <tr>\n",
       "      <th>0</th>\n",
       "      <td>1980</td>\n",
       "      <td>AK</td>\n",
       "      <td>440142</td>\n",
       "      <td>1919</td>\n",
       "      <td>1270</td>\n",
       "    </tr>\n",
       "    <tr>\n",
       "      <th>1</th>\n",
       "      <td>1980</td>\n",
       "      <td>AL</td>\n",
       "      <td>3861466</td>\n",
       "      <td>17320</td>\n",
       "      <td>10551</td>\n",
       "    </tr>\n",
       "    <tr>\n",
       "      <th>2</th>\n",
       "      <td>1980</td>\n",
       "      <td>AR</td>\n",
       "      <td>2284037</td>\n",
       "      <td>7656</td>\n",
       "      <td>4989</td>\n",
       "    </tr>\n",
       "  </tbody>\n",
       "</table>\n",
       "</div>"
      ],
      "text/plain": [
       "   year state_abbr  population  violent_crime  aggravated_assault\n",
       "0  1980         AK      440142           1919                1270\n",
       "1  1980         AL     3861466          17320               10551\n",
       "2  1980         AR     2284037           7656                4989"
      ]
     },
     "execution_count": 10,
     "metadata": {},
     "output_type": "execute_result"
    }
   ],
   "source": [
    "# Create a new DataFrame with year, state_abbr, population, violent_crime, aggravated_assault\n",
    "fbi_crime_df = fbi_crime_df.drop(columns=[\"homicide\",\"rape_legacy\",\"rape_revised\",\"robbery\"])\n",
    "fbi_crime_df.head(3)"
   ]
  },
  {
   "cell_type": "code",
   "execution_count": 11,
   "metadata": {},
   "outputs": [],
   "source": [
    "# Combine Year / State into a single ID Column, drop Individual columns\n",
    "fbi_crime_df[\"year\"] = fbi_crime_df[\"year\"].astype(str)\n",
    "fbi_crime_df[\"YrSt_ID\"] = fbi_crime_df[\"year\"] +\" - \"+ fbi_crime_df[\"state_abbr\"]\n",
    "fbi_crime_df = fbi_crime_df.drop(columns=[\"year\",\"state_abbr\"])"
   ]
  },
  {
   "cell_type": "code",
   "execution_count": 12,
   "metadata": {},
   "outputs": [
    {
     "data": {
      "text/html": [
       "<div>\n",
       "<style scoped>\n",
       "    .dataframe tbody tr th:only-of-type {\n",
       "        vertical-align: middle;\n",
       "    }\n",
       "\n",
       "    .dataframe tbody tr th {\n",
       "        vertical-align: top;\n",
       "    }\n",
       "\n",
       "    .dataframe thead th {\n",
       "        text-align: right;\n",
       "    }\n",
       "</style>\n",
       "<table border=\"1\" class=\"dataframe\">\n",
       "  <thead>\n",
       "    <tr style=\"text-align: right;\">\n",
       "      <th></th>\n",
       "      <th>YrSt_ID</th>\n",
       "      <th>population</th>\n",
       "      <th>violent_crime</th>\n",
       "      <th>aggravated_assault</th>\n",
       "    </tr>\n",
       "  </thead>\n",
       "  <tbody>\n",
       "    <tr>\n",
       "      <th>0</th>\n",
       "      <td>1980 - AK</td>\n",
       "      <td>440142</td>\n",
       "      <td>1919</td>\n",
       "      <td>1270</td>\n",
       "    </tr>\n",
       "    <tr>\n",
       "      <th>1</th>\n",
       "      <td>1980 - AL</td>\n",
       "      <td>3861466</td>\n",
       "      <td>17320</td>\n",
       "      <td>10551</td>\n",
       "    </tr>\n",
       "    <tr>\n",
       "      <th>2</th>\n",
       "      <td>1980 - AR</td>\n",
       "      <td>2284037</td>\n",
       "      <td>7656</td>\n",
       "      <td>4989</td>\n",
       "    </tr>\n",
       "  </tbody>\n",
       "</table>\n",
       "</div>"
      ],
      "text/plain": [
       "     YrSt_ID  population  violent_crime  aggravated_assault\n",
       "0  1980 - AK      440142           1919                1270\n",
       "1  1980 - AL     3861466          17320               10551\n",
       "2  1980 - AR     2284037           7656                4989"
      ]
     },
     "execution_count": 12,
     "metadata": {},
     "output_type": "execute_result"
    }
   ],
   "source": [
    "fbi_crime_df = fbi_crime_df[[\"YrSt_ID\",\"population\", \"violent_crime\",\"aggravated_assault\"]]\n",
    "fbi_crime_df.head(3)"
   ]
  },
  {
   "cell_type": "code",
   "execution_count": 13,
   "metadata": {},
   "outputs": [
    {
     "data": {
      "text/html": [
       "<div>\n",
       "<style scoped>\n",
       "    .dataframe tbody tr th:only-of-type {\n",
       "        vertical-align: middle;\n",
       "    }\n",
       "\n",
       "    .dataframe tbody tr th {\n",
       "        vertical-align: top;\n",
       "    }\n",
       "\n",
       "    .dataframe thead th {\n",
       "        text-align: right;\n",
       "    }\n",
       "</style>\n",
       "<table border=\"1\" class=\"dataframe\">\n",
       "  <thead>\n",
       "    <tr style=\"text-align: right;\">\n",
       "      <th></th>\n",
       "      <th>population</th>\n",
       "      <th>violent_crime</th>\n",
       "      <th>aggravated_assault</th>\n",
       "    </tr>\n",
       "    <tr>\n",
       "      <th>YrSt_ID</th>\n",
       "      <th></th>\n",
       "      <th></th>\n",
       "      <th></th>\n",
       "    </tr>\n",
       "  </thead>\n",
       "  <tbody>\n",
       "    <tr>\n",
       "      <th>1980 - AK</th>\n",
       "      <td>440142</td>\n",
       "      <td>1919</td>\n",
       "      <td>1270</td>\n",
       "    </tr>\n",
       "    <tr>\n",
       "      <th>1980 - AL</th>\n",
       "      <td>3861466</td>\n",
       "      <td>17320</td>\n",
       "      <td>10551</td>\n",
       "    </tr>\n",
       "    <tr>\n",
       "      <th>1980 - AR</th>\n",
       "      <td>2284037</td>\n",
       "      <td>7656</td>\n",
       "      <td>4989</td>\n",
       "    </tr>\n",
       "  </tbody>\n",
       "</table>\n",
       "</div>"
      ],
      "text/plain": [
       "           population  violent_crime  aggravated_assault\n",
       "YrSt_ID                                                 \n",
       "1980 - AK      440142           1919                1270\n",
       "1980 - AL     3861466          17320               10551\n",
       "1980 - AR     2284037           7656                4989"
      ]
     },
     "execution_count": 13,
     "metadata": {},
     "output_type": "execute_result"
    }
   ],
   "source": [
    "fbi_crime_df = fbi_crime_df.set_index(\"YrSt_ID\")\n",
    "fbi_crime_df.head(3)"
   ]
  },
  {
   "cell_type": "markdown",
   "metadata": {},
   "source": [
    "Merge FBI Crime and Unemployement Datasets together"
   ]
  },
  {
   "cell_type": "code",
   "execution_count": 14,
   "metadata": {},
   "outputs": [
    {
     "data": {
      "text/html": [
       "<div>\n",
       "<style scoped>\n",
       "    .dataframe tbody tr th:only-of-type {\n",
       "        vertical-align: middle;\n",
       "    }\n",
       "\n",
       "    .dataframe tbody tr th {\n",
       "        vertical-align: top;\n",
       "    }\n",
       "\n",
       "    .dataframe thead th {\n",
       "        text-align: right;\n",
       "    }\n",
       "</style>\n",
       "<table border=\"1\" class=\"dataframe\">\n",
       "  <thead>\n",
       "    <tr style=\"text-align: right;\">\n",
       "      <th></th>\n",
       "      <th>population</th>\n",
       "      <th>violent_crime</th>\n",
       "      <th>aggravated_assault</th>\n",
       "      <th>Unemp_Yr_Avg</th>\n",
       "    </tr>\n",
       "    <tr>\n",
       "      <th>YrSt_ID</th>\n",
       "      <th></th>\n",
       "      <th></th>\n",
       "      <th></th>\n",
       "      <th></th>\n",
       "    </tr>\n",
       "  </thead>\n",
       "  <tbody>\n",
       "    <tr>\n",
       "      <th>1980 - AK</th>\n",
       "      <td>440142</td>\n",
       "      <td>1919</td>\n",
       "      <td>1270</td>\n",
       "      <td>9.6</td>\n",
       "    </tr>\n",
       "    <tr>\n",
       "      <th>1980 - AL</th>\n",
       "      <td>3861466</td>\n",
       "      <td>17320</td>\n",
       "      <td>10551</td>\n",
       "      <td>8.9</td>\n",
       "    </tr>\n",
       "    <tr>\n",
       "      <th>1980 - AR</th>\n",
       "      <td>2284037</td>\n",
       "      <td>7656</td>\n",
       "      <td>4989</td>\n",
       "      <td>7.5</td>\n",
       "    </tr>\n",
       "  </tbody>\n",
       "</table>\n",
       "</div>"
      ],
      "text/plain": [
       "           population  violent_crime  aggravated_assault  Unemp_Yr_Avg\n",
       "YrSt_ID                                                               \n",
       "1980 - AK      440142           1919                1270           9.6\n",
       "1980 - AL     3861466          17320               10551           8.9\n",
       "1980 - AR     2284037           7656                4989           7.5"
      ]
     },
     "execution_count": 14,
     "metadata": {},
     "output_type": "execute_result"
    }
   ],
   "source": [
    "fbi_ue_df = fbi_crime_df.merge(unemp_df, left_index=True, right_index=True)\n",
    "fbi_ue_df.head(3)"
   ]
  },
  {
   "cell_type": "code",
   "execution_count": 15,
   "metadata": {},
   "outputs": [
    {
     "data": {
      "text/plain": [
       "population              int64\n",
       "violent_crime           int64\n",
       "aggravated_assault      int64\n",
       "Unemp_Yr_Avg          float64\n",
       "dtype: object"
      ]
     },
     "execution_count": 15,
     "metadata": {},
     "output_type": "execute_result"
    }
   ],
   "source": [
    "fbi_ue_df.dtypes"
   ]
  },
  {
   "cell_type": "code",
   "execution_count": 16,
   "metadata": {},
   "outputs": [
    {
     "name": "stdout",
     "output_type": "stream",
     "text": [
      "Column population has 0 null values\n",
      "Column violent_crime has 0 null values\n",
      "Column aggravated_assault has 0 null values\n",
      "Column Unemp_Yr_Avg has 0 null values\n"
     ]
    }
   ],
   "source": [
    "for column in fbi_ue_df.columns:\n",
    "    print(f\"Column {column} has {fbi_ue_df[column].isnull().sum()} null values\")"
   ]
  },
  {
   "cell_type": "code",
   "execution_count": 17,
   "metadata": {},
   "outputs": [
    {
     "name": "stdout",
     "output_type": "stream",
     "text": [
      "Duplicate entries: 0\n"
     ]
    }
   ],
   "source": [
    "print(f\"Duplicate entries: {fbi_ue_df.duplicated().sum()}\")"
   ]
  },
  {
   "cell_type": "code",
   "execution_count": 18,
   "metadata": {},
   "outputs": [
    {
     "data": {
      "text/html": [
       "<div>\n",
       "<style scoped>\n",
       "    .dataframe tbody tr th:only-of-type {\n",
       "        vertical-align: middle;\n",
       "    }\n",
       "\n",
       "    .dataframe tbody tr th {\n",
       "        vertical-align: top;\n",
       "    }\n",
       "\n",
       "    .dataframe thead th {\n",
       "        text-align: right;\n",
       "    }\n",
       "</style>\n",
       "<table border=\"1\" class=\"dataframe\">\n",
       "  <thead>\n",
       "    <tr style=\"text-align: right;\">\n",
       "      <th></th>\n",
       "      <th>population</th>\n",
       "      <th>violent_crime</th>\n",
       "      <th>aggravated_assault</th>\n",
       "      <th>Unemp_Yr_Avg</th>\n",
       "      <th>population_unemp</th>\n",
       "    </tr>\n",
       "    <tr>\n",
       "      <th>YrSt_ID</th>\n",
       "      <th></th>\n",
       "      <th></th>\n",
       "      <th></th>\n",
       "      <th></th>\n",
       "      <th></th>\n",
       "    </tr>\n",
       "  </thead>\n",
       "  <tbody>\n",
       "    <tr>\n",
       "      <th>1980 - AK</th>\n",
       "      <td>440142</td>\n",
       "      <td>1919</td>\n",
       "      <td>1270</td>\n",
       "      <td>9.6</td>\n",
       "      <td>42254.0</td>\n",
       "    </tr>\n",
       "    <tr>\n",
       "      <th>1980 - AL</th>\n",
       "      <td>3861466</td>\n",
       "      <td>17320</td>\n",
       "      <td>10551</td>\n",
       "      <td>8.9</td>\n",
       "      <td>343670.0</td>\n",
       "    </tr>\n",
       "    <tr>\n",
       "      <th>1980 - AR</th>\n",
       "      <td>2284037</td>\n",
       "      <td>7656</td>\n",
       "      <td>4989</td>\n",
       "      <td>7.5</td>\n",
       "      <td>171303.0</td>\n",
       "    </tr>\n",
       "    <tr>\n",
       "      <th>1980 - AZ</th>\n",
       "      <td>2715357</td>\n",
       "      <td>17673</td>\n",
       "      <td>10909</td>\n",
       "      <td>6.6</td>\n",
       "      <td>179214.0</td>\n",
       "    </tr>\n",
       "    <tr>\n",
       "      <th>1980 - CA</th>\n",
       "      <td>23532680</td>\n",
       "      <td>210290</td>\n",
       "      <td>102766</td>\n",
       "      <td>6.8</td>\n",
       "      <td>1600222.0</td>\n",
       "    </tr>\n",
       "  </tbody>\n",
       "</table>\n",
       "</div>"
      ],
      "text/plain": [
       "           population  violent_crime  aggravated_assault  Unemp_Yr_Avg  \\\n",
       "YrSt_ID                                                                  \n",
       "1980 - AK      440142           1919                1270           9.6   \n",
       "1980 - AL     3861466          17320               10551           8.9   \n",
       "1980 - AR     2284037           7656                4989           7.5   \n",
       "1980 - AZ     2715357          17673               10909           6.6   \n",
       "1980 - CA    23532680         210290              102766           6.8   \n",
       "\n",
       "           population_unemp  \n",
       "YrSt_ID                      \n",
       "1980 - AK           42254.0  \n",
       "1980 - AL          343670.0  \n",
       "1980 - AR          171303.0  \n",
       "1980 - AZ          179214.0  \n",
       "1980 - CA         1600222.0  "
      ]
     },
     "execution_count": 18,
     "metadata": {},
     "output_type": "execute_result"
    }
   ],
   "source": [
    "# The Unemployment number is a percentage of the population that was unemployed in that state for that year>\n",
    "# Create a new column that calculates the value based on population from FBI data to obtain the # of unemployed persons\n",
    "fbi_ue_df[\"population_unemp\"] = (fbi_ue_df[\"population\"]*fbi_ue_df['Unemp_Yr_Avg'])/100\n",
    "fbi_ue_df = fbi_ue_df.round({\"population_unemp\": 0})\n",
    "fbi_ue_df.head(5)"
   ]
  },
  {
   "cell_type": "code",
   "execution_count": 21,
   "metadata": {},
   "outputs": [
    {
     "data": {
      "text/html": [
       "<div>\n",
       "<style scoped>\n",
       "    .dataframe tbody tr th:only-of-type {\n",
       "        vertical-align: middle;\n",
       "    }\n",
       "\n",
       "    .dataframe tbody tr th {\n",
       "        vertical-align: top;\n",
       "    }\n",
       "\n",
       "    .dataframe thead th {\n",
       "        text-align: right;\n",
       "    }\n",
       "</style>\n",
       "<table border=\"1\" class=\"dataframe\">\n",
       "  <thead>\n",
       "    <tr style=\"text-align: right;\">\n",
       "      <th></th>\n",
       "      <th>population</th>\n",
       "      <th>population_unemp</th>\n",
       "      <th>aggravated_assault</th>\n",
       "      <th>Unemp_Yr_Avg</th>\n",
       "    </tr>\n",
       "    <tr>\n",
       "      <th>YrSt_ID</th>\n",
       "      <th></th>\n",
       "      <th></th>\n",
       "      <th></th>\n",
       "      <th></th>\n",
       "    </tr>\n",
       "  </thead>\n",
       "  <tbody>\n",
       "    <tr>\n",
       "      <th>1980 - AK</th>\n",
       "      <td>440142</td>\n",
       "      <td>42254.0</td>\n",
       "      <td>1270</td>\n",
       "      <td>9.6</td>\n",
       "    </tr>\n",
       "    <tr>\n",
       "      <th>1980 - AL</th>\n",
       "      <td>3861466</td>\n",
       "      <td>343670.0</td>\n",
       "      <td>10551</td>\n",
       "      <td>8.9</td>\n",
       "    </tr>\n",
       "    <tr>\n",
       "      <th>1980 - AR</th>\n",
       "      <td>2284037</td>\n",
       "      <td>171303.0</td>\n",
       "      <td>4989</td>\n",
       "      <td>7.5</td>\n",
       "    </tr>\n",
       "    <tr>\n",
       "      <th>1980 - AZ</th>\n",
       "      <td>2715357</td>\n",
       "      <td>179214.0</td>\n",
       "      <td>10909</td>\n",
       "      <td>6.6</td>\n",
       "    </tr>\n",
       "    <tr>\n",
       "      <th>1980 - CA</th>\n",
       "      <td>23532680</td>\n",
       "      <td>1600222.0</td>\n",
       "      <td>102766</td>\n",
       "      <td>6.8</td>\n",
       "    </tr>\n",
       "  </tbody>\n",
       "</table>\n",
       "</div>"
      ],
      "text/plain": [
       "           population  population_unemp  aggravated_assault  Unemp_Yr_Avg\n",
       "YrSt_ID                                                                  \n",
       "1980 - AK      440142           42254.0                1270           9.6\n",
       "1980 - AL     3861466          343670.0               10551           8.9\n",
       "1980 - AR     2284037          171303.0                4989           7.5\n",
       "1980 - AZ     2715357          179214.0               10909           6.6\n",
       "1980 - CA    23532680         1600222.0              102766           6.8"
      ]
     },
     "execution_count": 21,
     "metadata": {},
     "output_type": "execute_result"
    }
   ],
   "source": [
    "# Create dataframe and CSV for aggravated assault machine learning portion\n",
    "aa_fbi_ue_df = fbi_ue_df.drop(columns=[\"violent_crime\"])\n",
    "aa_fbi_ue_df = aa_fbi_ue_df[[\"population\", \"population_unemp\",\"aggravated_assault\", \"Unemp_Yr_Avg\"]]\n",
    "aa_fbi_ue_df.head(5)\n",
    "\n",
    "#aa_fbi_ue_output = \"Resources/aa_fbi_ue.csv\"\n",
    "#aa_fbi_ue_df.to_csv(aa_fbi_ue_output, index=True)"
   ]
  },
  {
   "cell_type": "code",
   "execution_count": 20,
   "metadata": {},
   "outputs": [],
   "source": [
    "# Create dataframe and CSV for aggravated assault machine learning portion\n",
    "vc_fbi_ue_df = fbi_ue_df.drop(columns=[\"aggravated_assault\"])\n",
    "vc_fbi_ue_df = vc_fbi_ue_df[[\"population\", \"population_unemp\",\"violent_crime\", \"Unemp_Yr_Avg\"]]\n",
    "# vc_fbi_ue_df.head(5)\n",
    "\n",
    "vc_fbi_ue_output = \"Resources/vc_fbi_ue.csv\"\n",
    "vc_fbi_ue_df.to_csv(vc_fbi_ue_output, index=True)"
   ]
  },
  {
   "cell_type": "markdown",
   "metadata": {},
   "source": [
    "Create a data frame for Robbery"
   ]
  },
  {
   "cell_type": "code",
   "execution_count": 9,
   "metadata": {},
   "outputs": [
    {
     "data": {
      "text/html": [
       "<div>\n",
       "<style scoped>\n",
       "    .dataframe tbody tr th:only-of-type {\n",
       "        vertical-align: middle;\n",
       "    }\n",
       "\n",
       "    .dataframe tbody tr th {\n",
       "        vertical-align: top;\n",
       "    }\n",
       "\n",
       "    .dataframe thead th {\n",
       "        text-align: right;\n",
       "    }\n",
       "</style>\n",
       "<table border=\"1\" class=\"dataframe\">\n",
       "  <thead>\n",
       "    <tr style=\"text-align: right;\">\n",
       "      <th></th>\n",
       "      <th>year</th>\n",
       "      <th>state_abbr</th>\n",
       "      <th>population</th>\n",
       "      <th>robbery</th>\n",
       "    </tr>\n",
       "  </thead>\n",
       "  <tbody>\n",
       "    <tr>\n",
       "      <th>0</th>\n",
       "      <td>1980</td>\n",
       "      <td>AK</td>\n",
       "      <td>440142</td>\n",
       "      <td>360</td>\n",
       "    </tr>\n",
       "    <tr>\n",
       "      <th>1</th>\n",
       "      <td>1980</td>\n",
       "      <td>AL</td>\n",
       "      <td>3861466</td>\n",
       "      <td>5102</td>\n",
       "    </tr>\n",
       "    <tr>\n",
       "      <th>2</th>\n",
       "      <td>1980</td>\n",
       "      <td>AR</td>\n",
       "      <td>2284037</td>\n",
       "      <td>1848</td>\n",
       "    </tr>\n",
       "  </tbody>\n",
       "</table>\n",
       "</div>"
      ],
      "text/plain": [
       "   year state_abbr  population  robbery\n",
       "0  1980         AK      440142      360\n",
       "1  1980         AL     3861466     5102\n",
       "2  1980         AR     2284037     1848"
      ]
     },
     "execution_count": 9,
     "metadata": {},
     "output_type": "execute_result"
    }
   ],
   "source": [
    "# Create a new DataFrame with year, state_abbr, population, violent_crime, aggravated_assault\n",
    "fbi_crime_df = fbi_crime_df.drop(columns=[\"homicide\",\"rape_legacy\",\"rape_revised\",\"violent_crime\", \"aggravated_assault\"])\n",
    "fbi_crime_df.head(3)"
   ]
  },
  {
   "cell_type": "code",
   "execution_count": 10,
   "metadata": {},
   "outputs": [],
   "source": [
    "# Combine Year / State into a single ID Column, drop Individual columns\n",
    "fbi_crime_df[\"year\"] = fbi_crime_df[\"year\"].astype(str)\n",
    "fbi_crime_df[\"YrSt_ID\"] = fbi_crime_df[\"year\"] +\" - \"+ fbi_crime_df[\"state_abbr\"]\n",
    "fbi_crime_df = fbi_crime_df.drop(columns=[\"year\",\"state_abbr\"])"
   ]
  },
  {
   "cell_type": "code",
   "execution_count": 13,
   "metadata": {},
   "outputs": [
    {
     "data": {
      "text/html": [
       "<div>\n",
       "<style scoped>\n",
       "    .dataframe tbody tr th:only-of-type {\n",
       "        vertical-align: middle;\n",
       "    }\n",
       "\n",
       "    .dataframe tbody tr th {\n",
       "        vertical-align: top;\n",
       "    }\n",
       "\n",
       "    .dataframe thead th {\n",
       "        text-align: right;\n",
       "    }\n",
       "</style>\n",
       "<table border=\"1\" class=\"dataframe\">\n",
       "  <thead>\n",
       "    <tr style=\"text-align: right;\">\n",
       "      <th></th>\n",
       "      <th>population</th>\n",
       "      <th>robbery</th>\n",
       "    </tr>\n",
       "    <tr>\n",
       "      <th>YrSt_ID</th>\n",
       "      <th></th>\n",
       "      <th></th>\n",
       "    </tr>\n",
       "  </thead>\n",
       "  <tbody>\n",
       "    <tr>\n",
       "      <th>1980 - AK</th>\n",
       "      <td>440142</td>\n",
       "      <td>360</td>\n",
       "    </tr>\n",
       "    <tr>\n",
       "      <th>1980 - AL</th>\n",
       "      <td>3861466</td>\n",
       "      <td>5102</td>\n",
       "    </tr>\n",
       "    <tr>\n",
       "      <th>1980 - AR</th>\n",
       "      <td>2284037</td>\n",
       "      <td>1848</td>\n",
       "    </tr>\n",
       "  </tbody>\n",
       "</table>\n",
       "</div>"
      ],
      "text/plain": [
       "           population  robbery\n",
       "YrSt_ID                       \n",
       "1980 - AK      440142      360\n",
       "1980 - AL     3861466     5102\n",
       "1980 - AR     2284037     1848"
      ]
     },
     "execution_count": 13,
     "metadata": {},
     "output_type": "execute_result"
    }
   ],
   "source": [
    "fbi_crime_df = fbi_crime_df[[\"YrSt_ID\",\"population\", \"robbery\"]]\n",
    "fbi_crime_df = fbi_crime_df.set_index(\"YrSt_ID\")\n",
    "fbi_crime_df.head(3)"
   ]
  },
  {
   "cell_type": "code",
   "execution_count": 14,
   "metadata": {},
   "outputs": [
    {
     "data": {
      "text/html": [
       "<div>\n",
       "<style scoped>\n",
       "    .dataframe tbody tr th:only-of-type {\n",
       "        vertical-align: middle;\n",
       "    }\n",
       "\n",
       "    .dataframe tbody tr th {\n",
       "        vertical-align: top;\n",
       "    }\n",
       "\n",
       "    .dataframe thead th {\n",
       "        text-align: right;\n",
       "    }\n",
       "</style>\n",
       "<table border=\"1\" class=\"dataframe\">\n",
       "  <thead>\n",
       "    <tr style=\"text-align: right;\">\n",
       "      <th></th>\n",
       "      <th>population</th>\n",
       "      <th>robbery</th>\n",
       "      <th>Unemp_Yr_Avg</th>\n",
       "    </tr>\n",
       "    <tr>\n",
       "      <th>YrSt_ID</th>\n",
       "      <th></th>\n",
       "      <th></th>\n",
       "      <th></th>\n",
       "    </tr>\n",
       "  </thead>\n",
       "  <tbody>\n",
       "    <tr>\n",
       "      <th>1980 - AK</th>\n",
       "      <td>440142</td>\n",
       "      <td>360</td>\n",
       "      <td>9.6</td>\n",
       "    </tr>\n",
       "    <tr>\n",
       "      <th>1980 - AL</th>\n",
       "      <td>3861466</td>\n",
       "      <td>5102</td>\n",
       "      <td>8.9</td>\n",
       "    </tr>\n",
       "    <tr>\n",
       "      <th>1980 - AR</th>\n",
       "      <td>2284037</td>\n",
       "      <td>1848</td>\n",
       "      <td>7.5</td>\n",
       "    </tr>\n",
       "  </tbody>\n",
       "</table>\n",
       "</div>"
      ],
      "text/plain": [
       "           population  robbery  Unemp_Yr_Avg\n",
       "YrSt_ID                                     \n",
       "1980 - AK      440142      360           9.6\n",
       "1980 - AL     3861466     5102           8.9\n",
       "1980 - AR     2284037     1848           7.5"
      ]
     },
     "execution_count": 14,
     "metadata": {},
     "output_type": "execute_result"
    }
   ],
   "source": [
    "fbi_ue_df = fbi_crime_df.merge(unemp_df, left_index=True, right_index=True)\n",
    "fbi_ue_df.head(3)"
   ]
  },
  {
   "cell_type": "code",
   "execution_count": 16,
   "metadata": {},
   "outputs": [],
   "source": [
    "# Create dataframe and CSV for aggravated assault machine learning portion\n",
    "rob_fbi_ue_df = fbi_ue_df[[\"population\", \"robbery\", \"Unemp_Yr_Avg\"]]\n",
    "# vc_fbi_ue_df.head(5)\n",
    "\n",
    "rob_fbi_ue_output = \"Resources/rob_fbi_ue.csv\"\n",
    "rob_fbi_ue_df.to_csv(rob_fbi_ue_output, index=True)"
   ]
  },
  {
   "cell_type": "code",
   "execution_count": null,
   "metadata": {},
   "outputs": [],
   "source": []
  }
 ],
 "metadata": {
  "kernelspec": {
   "display_name": "mlenv",
   "language": "python",
   "name": "mlenv"
  },
  "language_info": {
   "codemirror_mode": {
    "name": "ipython",
    "version": 3
   },
   "file_extension": ".py",
   "mimetype": "text/x-python",
   "name": "python",
   "nbconvert_exporter": "python",
   "pygments_lexer": "ipython3",
   "version": "3.7.7"
  }
 },
 "nbformat": 4,
 "nbformat_minor": 4
}
