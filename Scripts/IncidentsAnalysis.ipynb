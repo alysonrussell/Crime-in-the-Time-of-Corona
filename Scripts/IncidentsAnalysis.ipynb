{
 "cells": [
  {
   "cell_type": "markdown",
   "metadata": {},
   "source": [
    "### Crime in the time of Corona - Create DB from raw CSV tables"
   ]
  },
  {
   "cell_type": "code",
   "execution_count": 26,
   "metadata": {},
   "outputs": [],
   "source": [
    "## Add dependencies: Pandas\n",
    "import pandas as pd\n",
    "import os # needed to use the os.path.join method to load the files\n",
    "from sqlalchemy import create_engine # for integrating with PostgreSQL\n",
    "from config import db_password"
   ]
  },
  {
   "cell_type": "markdown",
   "metadata": {},
   "source": [
    "#### Incidents: Load raw csv, create dataframe and clean data."
   ]
  },
  {
   "cell_type": "code",
   "execution_count": 28,
   "metadata": {},
   "outputs": [
    {
     "data": {
      "text/html": [
       "<div>\n",
       "<style scoped>\n",
       "    .dataframe tbody tr th:only-of-type {\n",
       "        vertical-align: middle;\n",
       "    }\n",
       "\n",
       "    .dataframe tbody tr th {\n",
       "        vertical-align: top;\n",
       "    }\n",
       "\n",
       "    .dataframe thead th {\n",
       "        text-align: right;\n",
       "    }\n",
       "</style>\n",
       "<table border=\"1\" class=\"dataframe\">\n",
       "  <thead>\n",
       "    <tr style=\"text-align: right;\">\n",
       "      <th></th>\n",
       "      <th>Number</th>\n",
       "      <th>dateReported</th>\n",
       "      <th>startDate</th>\n",
       "      <th>offenseCode</th>\n",
       "      <th>offenseDescription</th>\n",
       "      <th>streetAddress</th>\n",
       "      <th>cityDescription</th>\n",
       "      <th>stateDescription</th>\n",
       "      <th>zipCode</th>\n",
       "      <th>longitude</th>\n",
       "      <th>latitude</th>\n",
       "      <th>Booked</th>\n",
       "      <th>DAComplaint</th>\n",
       "      <th>Cited</th>\n",
       "      <th>burglaryFactor</th>\n",
       "      <th>felonyMisdemeanor</th>\n",
       "      <th>CID</th>\n",
       "      <th>dateIncident</th>\n",
       "      <th>weekNumber</th>\n",
       "    </tr>\n",
       "  </thead>\n",
       "  <tbody>\n",
       "    <tr>\n",
       "      <th>0</th>\n",
       "      <td>MP19037614</td>\n",
       "      <td>Dec 31, 2019, 7:10:57 PM</td>\n",
       "      <td>Dec 31, 2019, 7:00:00 PM</td>\n",
       "      <td>245 (A)(1) PC</td>\n",
       "      <td>245 (A)(1) PC FORCE OR ADW NOT FIREARM:GBI LIK...</td>\n",
       "      <td>OAKDALE RD &amp; FLOYD AVE</td>\n",
       "      <td>MODESTO</td>\n",
       "      <td>CALIFORNIA</td>\n",
       "      <td>95355</td>\n",
       "      <td>-120.957770</td>\n",
       "      <td>37.678080</td>\n",
       "      <td>0</td>\n",
       "      <td>0</td>\n",
       "      <td>0</td>\n",
       "      <td>NaN</td>\n",
       "      <td>FELONY</td>\n",
       "      <td>MP19037614 - 245 (A)(1) PC</td>\n",
       "      <td>2019-12-31</td>\n",
       "      <td>7</td>\n",
       "    </tr>\n",
       "    <tr>\n",
       "      <th>1</th>\n",
       "      <td>MP19037565</td>\n",
       "      <td>Dec 31, 2019, 9:01:31 AM</td>\n",
       "      <td>Dec 31, 2019, 12:30:00 AM</td>\n",
       "      <td>460(B) PC</td>\n",
       "      <td>460(B) PC BURGLARY: VEHICLE/LARCENY 06 Theft 2190</td>\n",
       "      <td>3120 PELANDALE AVE</td>\n",
       "      <td>MO</td>\n",
       "      <td>CALIFORNIA</td>\n",
       "      <td>NaN</td>\n",
       "      <td>-121.052988</td>\n",
       "      <td>37.699369</td>\n",
       "      <td>0</td>\n",
       "      <td>0</td>\n",
       "      <td>0</td>\n",
       "      <td>NaN</td>\n",
       "      <td>FELONY</td>\n",
       "      <td>MP19037565 - 460(B) PC</td>\n",
       "      <td>2019-12-31</td>\n",
       "      <td>7</td>\n",
       "    </tr>\n",
       "    <tr>\n",
       "      <th>2</th>\n",
       "      <td>MP19037555</td>\n",
       "      <td>Dec 31, 2019, 8:12:40 AM</td>\n",
       "      <td>Dec 31, 2019, 5:00:00 AM</td>\n",
       "      <td>460(B) PC</td>\n",
       "      <td>460(B) PC BURGLARY: VEHICLE/LARCENY 06 Theft 2190</td>\n",
       "      <td>3120 PELANDALE AVE</td>\n",
       "      <td>MODESTO</td>\n",
       "      <td>CALIFORNIA</td>\n",
       "      <td>95356</td>\n",
       "      <td>-121.053001</td>\n",
       "      <td>37.699374</td>\n",
       "      <td>0</td>\n",
       "      <td>0</td>\n",
       "      <td>0</td>\n",
       "      <td>NaN</td>\n",
       "      <td>FELONY</td>\n",
       "      <td>MP19037555 - 460(B) PC</td>\n",
       "      <td>2019-12-31</td>\n",
       "      <td>7</td>\n",
       "    </tr>\n",
       "    <tr>\n",
       "      <th>3</th>\n",
       "      <td>MP19037568</td>\n",
       "      <td>Dec 31, 2019, 9:36:26 AM</td>\n",
       "      <td>Dec 31, 2019, 9:30:00 AM</td>\n",
       "      <td>460 (A) PC</td>\n",
       "      <td>460 (A) PC BURGLARY:FIRST DEGREE 05 Burglary -...</td>\n",
       "      <td>2129 CLAYMONT DR</td>\n",
       "      <td>MODESTO</td>\n",
       "      <td>CALIFORNIA</td>\n",
       "      <td>95350</td>\n",
       "      <td>-121.033225</td>\n",
       "      <td>37.687181</td>\n",
       "      <td>1</td>\n",
       "      <td>0</td>\n",
       "      <td>0</td>\n",
       "      <td>RESIDENCE - DAY (6AM - 6PM)</td>\n",
       "      <td>FELONY</td>\n",
       "      <td>MP19037568 - 460 (A) PC</td>\n",
       "      <td>2019-12-31</td>\n",
       "      <td>7</td>\n",
       "    </tr>\n",
       "    <tr>\n",
       "      <th>4</th>\n",
       "      <td>MP19037568</td>\n",
       "      <td>Dec 31, 2019, 9:36:26 AM</td>\n",
       "      <td>Dec 31, 2019, 9:30:00 AM</td>\n",
       "      <td>10851 VC</td>\n",
       "      <td>10851 VC AUTO THEFT 07 Motor Vehicle Theft 44</td>\n",
       "      <td>2129 CLAYMONT DR</td>\n",
       "      <td>MODESTO</td>\n",
       "      <td>CALIFORNIA</td>\n",
       "      <td>95350</td>\n",
       "      <td>-121.033225</td>\n",
       "      <td>37.687181</td>\n",
       "      <td>1</td>\n",
       "      <td>0</td>\n",
       "      <td>0</td>\n",
       "      <td>NaN</td>\n",
       "      <td>FELONY</td>\n",
       "      <td>MP19037568 - 10851 VC</td>\n",
       "      <td>2019-12-31</td>\n",
       "      <td>7</td>\n",
       "    </tr>\n",
       "  </tbody>\n",
       "</table>\n",
       "</div>"
      ],
      "text/plain": [
       "       Number              dateReported                  startDate  \\\n",
       "0  MP19037614  Dec 31, 2019, 7:10:57 PM   Dec 31, 2019, 7:00:00 PM   \n",
       "1  MP19037565  Dec 31, 2019, 9:01:31 AM  Dec 31, 2019, 12:30:00 AM   \n",
       "2  MP19037555  Dec 31, 2019, 8:12:40 AM   Dec 31, 2019, 5:00:00 AM   \n",
       "3  MP19037568  Dec 31, 2019, 9:36:26 AM   Dec 31, 2019, 9:30:00 AM   \n",
       "4  MP19037568  Dec 31, 2019, 9:36:26 AM   Dec 31, 2019, 9:30:00 AM   \n",
       "\n",
       "     offenseCode                                 offenseDescription  \\\n",
       "0  245 (A)(1) PC  245 (A)(1) PC FORCE OR ADW NOT FIREARM:GBI LIK...   \n",
       "1      460(B) PC  460(B) PC BURGLARY: VEHICLE/LARCENY 06 Theft 2190   \n",
       "2      460(B) PC  460(B) PC BURGLARY: VEHICLE/LARCENY 06 Theft 2190   \n",
       "3     460 (A) PC  460 (A) PC BURGLARY:FIRST DEGREE 05 Burglary -...   \n",
       "4       10851 VC      10851 VC AUTO THEFT 07 Motor Vehicle Theft 44   \n",
       "\n",
       "            streetAddress cityDescription stateDescription zipCode  \\\n",
       "0  OAKDALE RD & FLOYD AVE         MODESTO       CALIFORNIA   95355   \n",
       "1      3120 PELANDALE AVE              MO       CALIFORNIA     NaN   \n",
       "2      3120 PELANDALE AVE         MODESTO       CALIFORNIA   95356   \n",
       "3        2129 CLAYMONT DR         MODESTO       CALIFORNIA   95350   \n",
       "4        2129 CLAYMONT DR         MODESTO       CALIFORNIA   95350   \n",
       "\n",
       "    longitude   latitude  Booked  DAComplaint  Cited  \\\n",
       "0 -120.957770  37.678080       0            0      0   \n",
       "1 -121.052988  37.699369       0            0      0   \n",
       "2 -121.053001  37.699374       0            0      0   \n",
       "3 -121.033225  37.687181       1            0      0   \n",
       "4 -121.033225  37.687181       1            0      0   \n",
       "\n",
       "                burglaryFactor felonyMisdemeanor                         CID  \\\n",
       "0                          NaN            FELONY  MP19037614 - 245 (A)(1) PC   \n",
       "1                          NaN            FELONY      MP19037565 - 460(B) PC   \n",
       "2                          NaN            FELONY      MP19037555 - 460(B) PC   \n",
       "3  RESIDENCE - DAY (6AM - 6PM)            FELONY     MP19037568 - 460 (A) PC   \n",
       "4                          NaN            FELONY       MP19037568 - 10851 VC   \n",
       "\n",
       "  dateIncident  weekNumber  \n",
       "0   2019-12-31           7  \n",
       "1   2019-12-31           7  \n",
       "2   2019-12-31           7  \n",
       "3   2019-12-31           7  \n",
       "4   2019-12-31           7  "
      ]
     },
     "execution_count": 28,
     "metadata": {},
     "output_type": "execute_result"
    }
   ],
   "source": [
    "# Load the CSV Files into a dataframes.\n",
    "#incidents_raw_df = pd.read_csv(\"../Resources - MPD Data/incidentTableClean.csv\")\n",
    "clean_incidents_df = pd.read_csv(\"../Resources/CleanedData/Cleaned_Incidents.csv\")\n",
    "clean_incidents_df.head()"
   ]
  },
  {
   "cell_type": "code",
   "execution_count": 8,
   "metadata": {},
   "outputs": [
    {
     "data": {
      "text/plain": [
       "MP20008752    5\n",
       "MP20004466    4\n",
       "MP20009588    4\n",
       "MP20008931    3\n",
       "MP20000095    3\n",
       "             ..\n",
       "MP20005344    1\n",
       "MP20008113    1\n",
       "MP20001834    1\n",
       "MP20002734    1\n",
       "MP20004179    1\n",
       "Name: Number, Length: 1660, dtype: int64"
      ]
     },
     "execution_count": 8,
     "metadata": {},
     "output_type": "execute_result"
    }
   ],
   "source": [
    "# Review Number field for uniqueness. Its our primary field\n",
    "incidents_raw_df.Number.value_counts(sort=True, dropna=True, ascending=False, bins=None)\n",
    "# Results show 1660 unique values meaning 127 are possible duplicates.\n",
    "# Looks like Case Number duplication is valid due to multiple offenses under same case.\n",
    "# Need to create a primary unique field. "
   ]
  },
  {
   "cell_type": "code",
   "execution_count": 10,
   "metadata": {},
   "outputs": [
    {
     "data": {
      "text/html": [
       "<div>\n",
       "<style scoped>\n",
       "    .dataframe tbody tr th:only-of-type {\n",
       "        vertical-align: middle;\n",
       "    }\n",
       "\n",
       "    .dataframe tbody tr th {\n",
       "        vertical-align: top;\n",
       "    }\n",
       "\n",
       "    .dataframe thead th {\n",
       "        text-align: right;\n",
       "    }\n",
       "</style>\n",
       "<table border=\"1\" class=\"dataframe\">\n",
       "  <thead>\n",
       "    <tr style=\"text-align: right;\">\n",
       "      <th></th>\n",
       "      <th>Number</th>\n",
       "      <th>dateReported</th>\n",
       "      <th>startDate</th>\n",
       "      <th>offenseCode</th>\n",
       "      <th>offenseDescription</th>\n",
       "      <th>streetAddress</th>\n",
       "      <th>cityDescription</th>\n",
       "      <th>stateDescription</th>\n",
       "      <th>zipCode</th>\n",
       "      <th>longitude</th>\n",
       "      <th>latitude</th>\n",
       "      <th>Booked</th>\n",
       "      <th>DAComplaint</th>\n",
       "      <th>Cited</th>\n",
       "      <th>burglaryFactor</th>\n",
       "      <th>felonyMisdemeanor</th>\n",
       "      <th>CID</th>\n",
       "    </tr>\n",
       "  </thead>\n",
       "  <tbody>\n",
       "    <tr>\n",
       "      <th>0</th>\n",
       "      <td>MP19037614</td>\n",
       "      <td>Dec 31, 2019, 7:10:57 PM</td>\n",
       "      <td>Dec 31, 2019, 7:00:00 PM</td>\n",
       "      <td>245 (A)(1) PC</td>\n",
       "      <td>245 (A)(1) PC FORCE OR ADW NOT FIREARM:GBI LIK...</td>\n",
       "      <td>OAKDALE RD &amp; FLOYD AVE</td>\n",
       "      <td>MODESTO</td>\n",
       "      <td>CALIFORNIA</td>\n",
       "      <td>95355</td>\n",
       "      <td>-120.957770</td>\n",
       "      <td>37.678080</td>\n",
       "      <td>0</td>\n",
       "      <td>0</td>\n",
       "      <td>0</td>\n",
       "      <td>NaN</td>\n",
       "      <td>FELONY</td>\n",
       "      <td>MP19037614 - 245 (A)(1) PC</td>\n",
       "    </tr>\n",
       "    <tr>\n",
       "      <th>1</th>\n",
       "      <td>MP19037565</td>\n",
       "      <td>Dec 31, 2019, 9:01:31 AM</td>\n",
       "      <td>Dec 31, 2019, 12:30:00 AM</td>\n",
       "      <td>460(B) PC</td>\n",
       "      <td>460(B) PC BURGLARY: VEHICLE/LARCENY 06 Theft 2190</td>\n",
       "      <td>3120 PELANDALE AVE</td>\n",
       "      <td>MO</td>\n",
       "      <td>CALIFORNIA</td>\n",
       "      <td>NaN</td>\n",
       "      <td>-121.052988</td>\n",
       "      <td>37.699369</td>\n",
       "      <td>0</td>\n",
       "      <td>0</td>\n",
       "      <td>0</td>\n",
       "      <td>NaN</td>\n",
       "      <td>FELONY</td>\n",
       "      <td>MP19037565 - 460(B) PC</td>\n",
       "    </tr>\n",
       "    <tr>\n",
       "      <th>2</th>\n",
       "      <td>MP19037555</td>\n",
       "      <td>Dec 31, 2019, 8:12:40 AM</td>\n",
       "      <td>Dec 31, 2019, 5:00:00 AM</td>\n",
       "      <td>460(B) PC</td>\n",
       "      <td>460(B) PC BURGLARY: VEHICLE/LARCENY 06 Theft 2190</td>\n",
       "      <td>3120 PELANDALE AVE</td>\n",
       "      <td>MODESTO</td>\n",
       "      <td>CALIFORNIA</td>\n",
       "      <td>95356</td>\n",
       "      <td>-121.053001</td>\n",
       "      <td>37.699374</td>\n",
       "      <td>0</td>\n",
       "      <td>0</td>\n",
       "      <td>0</td>\n",
       "      <td>NaN</td>\n",
       "      <td>FELONY</td>\n",
       "      <td>MP19037555 - 460(B) PC</td>\n",
       "    </tr>\n",
       "  </tbody>\n",
       "</table>\n",
       "</div>"
      ],
      "text/plain": [
       "       Number              dateReported                  startDate  \\\n",
       "0  MP19037614  Dec 31, 2019, 7:10:57 PM   Dec 31, 2019, 7:00:00 PM   \n",
       "1  MP19037565  Dec 31, 2019, 9:01:31 AM  Dec 31, 2019, 12:30:00 AM   \n",
       "2  MP19037555  Dec 31, 2019, 8:12:40 AM   Dec 31, 2019, 5:00:00 AM   \n",
       "\n",
       "     offenseCode                                 offenseDescription  \\\n",
       "0  245 (A)(1) PC  245 (A)(1) PC FORCE OR ADW NOT FIREARM:GBI LIK...   \n",
       "1      460(B) PC  460(B) PC BURGLARY: VEHICLE/LARCENY 06 Theft 2190   \n",
       "2      460(B) PC  460(B) PC BURGLARY: VEHICLE/LARCENY 06 Theft 2190   \n",
       "\n",
       "            streetAddress cityDescription stateDescription zipCode  \\\n",
       "0  OAKDALE RD & FLOYD AVE         MODESTO       CALIFORNIA   95355   \n",
       "1      3120 PELANDALE AVE              MO       CALIFORNIA     NaN   \n",
       "2      3120 PELANDALE AVE         MODESTO       CALIFORNIA   95356   \n",
       "\n",
       "    longitude   latitude  Booked  DAComplaint  Cited burglaryFactor  \\\n",
       "0 -120.957770  37.678080       0            0      0            NaN   \n",
       "1 -121.052988  37.699369       0            0      0            NaN   \n",
       "2 -121.053001  37.699374       0            0      0            NaN   \n",
       "\n",
       "  felonyMisdemeanor                         CID  \n",
       "0            FELONY  MP19037614 - 245 (A)(1) PC  \n",
       "1            FELONY      MP19037565 - 460(B) PC  \n",
       "2            FELONY      MP19037555 - 460(B) PC  "
      ]
     },
     "execution_count": 10,
     "metadata": {},
     "output_type": "execute_result"
    }
   ],
   "source": [
    "# Create a primary unique field: Number plus offenseCode. \n",
    "# Call it CID for Case Id\n",
    "incidents_raw_df[\"CID\"] = incidents_raw_df[\"Number\"] + ' - ' + incidents_raw_df[\"offenseCode\"] \n",
    "incidents_raw_df.head(3)"
   ]
  },
  {
   "cell_type": "code",
   "execution_count": 11,
   "metadata": {},
   "outputs": [
    {
     "data": {
      "text/plain": [
       "MP20008752 - 187 (A) PC       2\n",
       "MP20008677 - 460(B) PC        2\n",
       "MP20007431 - 245 (A)(2) PC    2\n",
       "MP20009588 - 273.5 (A) PC     2\n",
       "MP20008752 - 273 A(A) PC      2\n",
       "                             ..\n",
       "MP20000640 - 273 A(A) PC      1\n",
       "MP20000893 - 10851 VC         1\n",
       "MP20008206 - 487 (A) PC       1\n",
       "MP20004796 - 10851 VC         1\n",
       "MP20002393 - 10851 VC         1\n",
       "Name: CID, Length: 1783, dtype: int64"
      ]
     },
     "execution_count": 11,
     "metadata": {},
     "output_type": "execute_result"
    }
   ],
   "source": [
    "# Check uniqueness of new combined field\n",
    "incidents_raw_df.CID.value_counts(sort=True, dropna=True, ascending=False, bins=None) \n",
    "# Visual review of remaining double entries shows they are in fact duplicates."
   ]
  },
  {
   "cell_type": "code",
   "execution_count": 12,
   "metadata": {},
   "outputs": [
    {
     "data": {
      "text/plain": [
       "MP20001777 - 460(B) PC       1\n",
       "MP20002250 - 460 (A) PC      1\n",
       "MP20001130 - 488 PC          1\n",
       "MP20800893 - 488 PC          1\n",
       "MP20009623 - 488 PC          1\n",
       "                            ..\n",
       "MP20000893 - 10851 VC        1\n",
       "MP20008206 - 487 (A) PC      1\n",
       "MP20004796 - 10851 VC        1\n",
       "MP20003644 - 273.5 (A) PC    1\n",
       "MP20002393 - 10851 VC        1\n",
       "Name: CID, Length: 1778, dtype: int64"
      ]
     },
     "execution_count": 12,
     "metadata": {},
     "output_type": "execute_result"
    }
   ],
   "source": [
    "# Drop the Duplicate Case IDs. Then check counts again.\n",
    "incidents_raw_df.drop_duplicates(subset =\"CID\", keep = False, inplace = True)\n",
    "incidents_raw_df.CID.value_counts(sort=True, ascending=False) "
   ]
  },
  {
   "cell_type": "code",
   "execution_count": null,
   "metadata": {},
   "outputs": [],
   "source": [
    "# Set index to CID.  If it works, we have unique values for our CID field. woohoo!\n",
    "incidents_raw_df.set_index('CID',inplace=True)\n",
    "incidents_raw_df.head(3)"
   ]
  },
  {
   "cell_type": "code",
   "execution_count": 13,
   "metadata": {},
   "outputs": [
    {
     "name": "stdout",
     "output_type": "stream",
     "text": [
      "<class 'pandas.core.frame.DataFrame'>\n",
      "Int64Index: 1778 entries, 0 to 1787\n",
      "Data columns (total 17 columns):\n",
      "Number                1778 non-null object\n",
      "dateReported          1778 non-null object\n",
      "startDate             1778 non-null object\n",
      "offenseCode           1778 non-null object\n",
      "offenseDescription    1778 non-null object\n",
      "streetAddress         1774 non-null object\n",
      "cityDescription       1729 non-null object\n",
      "stateDescription      1221 non-null object\n",
      "zipCode               1509 non-null object\n",
      "longitude             1754 non-null float64\n",
      "latitude              1754 non-null float64\n",
      "Booked                1778 non-null int64\n",
      "DAComplaint           1778 non-null int64\n",
      "Cited                 1778 non-null int64\n",
      "burglaryFactor        350 non-null object\n",
      "felonyMisdemeanor     1712 non-null object\n",
      "CID                   1778 non-null object\n",
      "dtypes: float64(2), int64(3), object(12)\n",
      "memory usage: 250.0+ KB\n"
     ]
    }
   ],
   "source": [
    "# How much data is left in our dataframe?\n",
    "incidents_raw_df.info()\n",
    "# Looks like 1778 rows, so we eliminated 10 records.  Lots of work for a unique primary key, but necessary."
   ]
  },
  {
   "cell_type": "code",
   "execution_count": 14,
   "metadata": {},
   "outputs": [
    {
     "data": {
      "text/html": [
       "<div>\n",
       "<style scoped>\n",
       "    .dataframe tbody tr th:only-of-type {\n",
       "        vertical-align: middle;\n",
       "    }\n",
       "\n",
       "    .dataframe tbody tr th {\n",
       "        vertical-align: top;\n",
       "    }\n",
       "\n",
       "    .dataframe thead th {\n",
       "        text-align: right;\n",
       "    }\n",
       "</style>\n",
       "<table border=\"1\" class=\"dataframe\">\n",
       "  <thead>\n",
       "    <tr style=\"text-align: right;\">\n",
       "      <th></th>\n",
       "      <th>Number</th>\n",
       "      <th>dateReported</th>\n",
       "      <th>startDate</th>\n",
       "      <th>offenseCode</th>\n",
       "      <th>offenseDescription</th>\n",
       "      <th>streetAddress</th>\n",
       "      <th>cityDescription</th>\n",
       "      <th>stateDescription</th>\n",
       "      <th>zipCode</th>\n",
       "      <th>longitude</th>\n",
       "      <th>latitude</th>\n",
       "      <th>Booked</th>\n",
       "      <th>DAComplaint</th>\n",
       "      <th>Cited</th>\n",
       "      <th>burglaryFactor</th>\n",
       "      <th>felonyMisdemeanor</th>\n",
       "      <th>CID</th>\n",
       "      <th>dateIncident</th>\n",
       "    </tr>\n",
       "  </thead>\n",
       "  <tbody>\n",
       "    <tr>\n",
       "      <th>0</th>\n",
       "      <td>MP19037614</td>\n",
       "      <td>Dec 31, 2019, 7:10:57 PM</td>\n",
       "      <td>Dec 31, 2019, 7:00:00 PM</td>\n",
       "      <td>245 (A)(1) PC</td>\n",
       "      <td>245 (A)(1) PC FORCE OR ADW NOT FIREARM:GBI LIK...</td>\n",
       "      <td>OAKDALE RD &amp; FLOYD AVE</td>\n",
       "      <td>MODESTO</td>\n",
       "      <td>CALIFORNIA</td>\n",
       "      <td>95355</td>\n",
       "      <td>-120.957770</td>\n",
       "      <td>37.678080</td>\n",
       "      <td>0</td>\n",
       "      <td>0</td>\n",
       "      <td>0</td>\n",
       "      <td>NaN</td>\n",
       "      <td>FELONY</td>\n",
       "      <td>MP19037614 - 245 (A)(1) PC</td>\n",
       "      <td>2019-12-31</td>\n",
       "    </tr>\n",
       "    <tr>\n",
       "      <th>1</th>\n",
       "      <td>MP19037565</td>\n",
       "      <td>Dec 31, 2019, 9:01:31 AM</td>\n",
       "      <td>Dec 31, 2019, 12:30:00 AM</td>\n",
       "      <td>460(B) PC</td>\n",
       "      <td>460(B) PC BURGLARY: VEHICLE/LARCENY 06 Theft 2190</td>\n",
       "      <td>3120 PELANDALE AVE</td>\n",
       "      <td>MO</td>\n",
       "      <td>CALIFORNIA</td>\n",
       "      <td>NaN</td>\n",
       "      <td>-121.052988</td>\n",
       "      <td>37.699369</td>\n",
       "      <td>0</td>\n",
       "      <td>0</td>\n",
       "      <td>0</td>\n",
       "      <td>NaN</td>\n",
       "      <td>FELONY</td>\n",
       "      <td>MP19037565 - 460(B) PC</td>\n",
       "      <td>2019-12-31</td>\n",
       "    </tr>\n",
       "    <tr>\n",
       "      <th>2</th>\n",
       "      <td>MP19037555</td>\n",
       "      <td>Dec 31, 2019, 8:12:40 AM</td>\n",
       "      <td>Dec 31, 2019, 5:00:00 AM</td>\n",
       "      <td>460(B) PC</td>\n",
       "      <td>460(B) PC BURGLARY: VEHICLE/LARCENY 06 Theft 2190</td>\n",
       "      <td>3120 PELANDALE AVE</td>\n",
       "      <td>MODESTO</td>\n",
       "      <td>CALIFORNIA</td>\n",
       "      <td>95356</td>\n",
       "      <td>-121.053001</td>\n",
       "      <td>37.699374</td>\n",
       "      <td>0</td>\n",
       "      <td>0</td>\n",
       "      <td>0</td>\n",
       "      <td>NaN</td>\n",
       "      <td>FELONY</td>\n",
       "      <td>MP19037555 - 460(B) PC</td>\n",
       "      <td>2019-12-31</td>\n",
       "    </tr>\n",
       "  </tbody>\n",
       "</table>\n",
       "</div>"
      ],
      "text/plain": [
       "       Number              dateReported                  startDate  \\\n",
       "0  MP19037614  Dec 31, 2019, 7:10:57 PM   Dec 31, 2019, 7:00:00 PM   \n",
       "1  MP19037565  Dec 31, 2019, 9:01:31 AM  Dec 31, 2019, 12:30:00 AM   \n",
       "2  MP19037555  Dec 31, 2019, 8:12:40 AM   Dec 31, 2019, 5:00:00 AM   \n",
       "\n",
       "     offenseCode                                 offenseDescription  \\\n",
       "0  245 (A)(1) PC  245 (A)(1) PC FORCE OR ADW NOT FIREARM:GBI LIK...   \n",
       "1      460(B) PC  460(B) PC BURGLARY: VEHICLE/LARCENY 06 Theft 2190   \n",
       "2      460(B) PC  460(B) PC BURGLARY: VEHICLE/LARCENY 06 Theft 2190   \n",
       "\n",
       "            streetAddress cityDescription stateDescription zipCode  \\\n",
       "0  OAKDALE RD & FLOYD AVE         MODESTO       CALIFORNIA   95355   \n",
       "1      3120 PELANDALE AVE              MO       CALIFORNIA     NaN   \n",
       "2      3120 PELANDALE AVE         MODESTO       CALIFORNIA   95356   \n",
       "\n",
       "    longitude   latitude  Booked  DAComplaint  Cited burglaryFactor  \\\n",
       "0 -120.957770  37.678080       0            0      0            NaN   \n",
       "1 -121.052988  37.699369       0            0      0            NaN   \n",
       "2 -121.053001  37.699374       0            0      0            NaN   \n",
       "\n",
       "  felonyMisdemeanor                         CID dateIncident  \n",
       "0            FELONY  MP19037614 - 245 (A)(1) PC   2019-12-31  \n",
       "1            FELONY      MP19037565 - 460(B) PC   2019-12-31  \n",
       "2            FELONY      MP19037555 - 460(B) PC   2019-12-31  "
      ]
     },
     "execution_count": 14,
     "metadata": {},
     "output_type": "execute_result"
    }
   ],
   "source": [
    "## Ok. now we review and clean remaining fields in Incidents table. \n",
    "#  Start with the date field. Create a new date field stripped to date without time.\n",
    "incidents_raw_df[\"dateIncident\"] = pd.to_datetime(incidents_raw_df[\"dateReported\"]).apply(lambda x: x.date())\n",
    "incidents_raw_df.head(3)"
   ]
  },
  {
   "cell_type": "code",
   "execution_count": 15,
   "metadata": {},
   "outputs": [
    {
     "data": {
      "text/plain": [
       "13    140\n",
       "4     135\n",
       "12    134\n",
       "10    127\n",
       "8     125\n",
       "11    122\n",
       "3     122\n",
       "9     119\n",
       "1     111\n",
       "5     110\n",
       "15    106\n",
       "7     104\n",
       "6     100\n",
       "14     94\n",
       "2      93\n",
       "16     19\n",
       "52     10\n",
       "51      3\n",
       "50      2\n",
       "47      1\n",
       "49      1\n",
       "Name: weekNumber, dtype: int64"
      ]
     },
     "execution_count": 15,
     "metadata": {},
     "output_type": "execute_result"
    }
   ],
   "source": [
    "## Create a new week field so we can do stats of crime types over time by week.\n",
    "incidents_raw_df['weekNumber'] = pd.to_datetime(incidents_raw_df['dateReported']).dt.week\n",
    "\n",
    "# This works, but since our data starts in 2019, we have five weeks with numbers over 40. Starting with Week 47 with blank week.\n",
    "incidents_raw_df.weekNumber.value_counts(sort=True, dropna=True, ascending=False, bins=None)"
   ]
  },
  {
   "cell_type": "code",
   "execution_count": 16,
   "metadata": {},
   "outputs": [],
   "source": [
    "## How to fix to make weekNumber column useful for linear regression analysis?\n",
    "#  Add six to each week number so that the first six slots in the week order can be allocated to 2019\n",
    "incidents_raw_df['weekNumber']= incidents_raw_df['weekNumber'] + 6"
   ]
  },
  {
   "cell_type": "code",
   "execution_count": 17,
   "metadata": {},
   "outputs": [],
   "source": [
    "# Now replace the high values for 2019 weeks with proper lower numbers.\n",
    "incidents_raw_df[\"weekNumber\"].replace({53:1,54:2,55:3,56:4,57:5,58:6}, inplace=True)"
   ]
  },
  {
   "cell_type": "code",
   "execution_count": 18,
   "metadata": {},
   "outputs": [
    {
     "data": {
      "text/plain": [
       "19    140\n",
       "10    135\n",
       "18    134\n",
       "16    127\n",
       "14    125\n",
       "17    122\n",
       "9     122\n",
       "15    119\n",
       "7     111\n",
       "11    110\n",
       "21    106\n",
       "13    104\n",
       "12    100\n",
       "20     94\n",
       "8      93\n",
       "22     19\n",
       "6      10\n",
       "5       3\n",
       "4       2\n",
       "3       1\n",
       "1       1\n",
       "Name: weekNumber, dtype: int64"
      ]
     },
     "execution_count": 18,
     "metadata": {},
     "output_type": "execute_result"
    }
   ],
   "source": [
    "# How does the weekNumber field tally look now? Sweet!\n",
    "incidents_raw_df.weekNumber.value_counts(sort=True, ascending=False, bins=None)"
   ]
  },
  {
   "cell_type": "code",
   "execution_count": 19,
   "metadata": {},
   "outputs": [
    {
     "data": {
      "text/plain": [
       "10851 VC             376\n",
       "460(B) PC            308\n",
       "488 PC               173\n",
       "273.5 (A) PC         152\n",
       "460 (B) PC           147\n",
       "460 (A) PC           140\n",
       "487 (A) PC            94\n",
       "245 (A)(1) PC         74\n",
       "211 PC                57\n",
       "245 (A)(4) PC         54\n",
       "273 A(A) PC           43\n",
       "664 /460 (B) PC       20\n",
       "243 (D) PC            19\n",
       "261 (A)(2) PC         15\n",
       "245 (A)(2) PC         14\n",
       "484 (A) PC            12\n",
       "451 (D) PC             9\n",
       "664 /211 PC            8\n",
       "664 /460 (A) PC        6\n",
       "664 /187 (A) PC        6\n",
       "487 (D)(2) PC          5\n",
       "289 (A)(1) PC          4\n",
       "261 (A)(1) PC          4\n",
       "243.4 (A) PC           3\n",
       "187 (A) PC             3\n",
       "212.5 (A) PC           3\n",
       "262 (A)(1) PC          2\n",
       "288.5 (A) PC           2\n",
       "463 (A) PC             2\n",
       "664 /460 PC            1\n",
       "261 (A)(3) PC          1\n",
       "244 PC                 1\n",
       "261 PC                 1\n",
       "664 /212.5 (A) PC      1\n",
       "288 A(C)(1) PC         1\n",
       "286 (B)(1) PC          1\n",
       "463 (C) PC             1\n",
       "243.4 (D) PC           1\n",
       "286 (C)(2)(A) PC       1\n",
       "463 (B) PC             1\n",
       "289 (B) PC             1\n",
       "664 /261 PC            1\n",
       "287 (C)(2)(A) PC       1\n",
       "487 (C) PC             1\n",
       "288.7 (B) PC           1\n",
       "261 (A)(4)(A) PC       1\n",
       "273 D(A) PC            1\n",
       "273.5 (F)(1) PC        1\n",
       "215 (A) PC             1\n",
       "487 (D) PC             1\n",
       "487 (B)(3) PC          1\n",
       "203 PC                 1\n",
       "Name: offenseCode, dtype: int64"
      ]
     },
     "execution_count": 19,
     "metadata": {},
     "output_type": "execute_result"
    }
   ],
   "source": [
    "## Now we look at our offense codes. \n",
    "incidents_raw_df.offenseCode.value_counts(sort=True, ascending=False)\n",
    "# Need a subject matter expert. This could be ok. Or not."
   ]
  },
  {
   "cell_type": "code",
   "execution_count": 25,
   "metadata": {},
   "outputs": [],
   "source": [
    "# Now export the cleaned Incidents table.\n",
    "\n",
    "# Crimes to CSV\n",
    "#cleaned_incidents = os.path.join(\"CleanData\", \"Cleaned_Incidents.csv\")\n",
    "cleaned_incidents = \"../Resources/CleanedData/Cleaned_Incidents.csv\"\n",
    "incidents_raw_df.to_csv(cleaned_incidents, index=False)"
   ]
  },
  {
   "cell_type": "markdown",
   "metadata": {},
   "source": [
    "#### FBI Crime Data: Load raw csv, create dataframe and clean data."
   ]
  },
  {
   "cell_type": "code",
   "execution_count": null,
   "metadata": {},
   "outputs": [],
   "source": [
    "#### FBICrimes Load and Clean the 1980 to 2018 csv data into a dataframe\n",
    "FBICrimes_df =  pd.read_csv(\"../Resources/est_crimes_1980_2018_FBI_UCRdata.csv\")\n",
    "FBICrimes_df.head(3)"
   ]
  },
  {
   "cell_type": "code",
   "execution_count": null,
   "metadata": {},
   "outputs": [],
   "source": [
    "## Data looks clean. No obvious transformations needed. Ourarget of aggravated assault has a full row counts of 1974.\n",
    "FBICrimes_df.info(3)\n",
    "FBICrimes_df.describe()"
   ]
  },
  {
   "cell_type": "code",
   "execution_count": null,
   "metadata": {},
   "outputs": [],
   "source": [
    "## Exploratory Data Analysis of FBI Crime Data.\n",
    "for year in FBICrimes_df:\n",
    "    \n",
    "\n",
    "\n"
   ]
  },
  {
   "cell_type": "markdown",
   "metadata": {},
   "source": [
    "#### National Unemployment Data,1980- 2018. Load and Clean."
   ]
  },
  {
   "cell_type": "code",
   "execution_count": null,
   "metadata": {},
   "outputs": [],
   "source": [
    "#### Unemployment Data, 1980-2018. Load and Clean.\n",
    "Unemployment_df =  pd.read_csv(\"../Resources/unemployment_by_state_1980_2018_BLSdata.csv\")\n",
    "Unemployment_df.head(3)"
   ]
  },
  {
   "cell_type": "code",
   "execution_count": null,
   "metadata": {},
   "outputs": [],
   "source": [
    "## Data looks clean. No obvious transformations needed. Our target of aggravated assault has a full row counts of 1974.\n",
    "Unemployment_df.info(3)"
   ]
  },
  {
   "cell_type": "markdown",
   "metadata": {},
   "source": [
    "#### Suspects: Load raw csv, create dataframe and clean data."
   ]
  },
  {
   "cell_type": "code",
   "execution_count": null,
   "metadata": {},
   "outputs": [],
   "source": [
    "# Load the suspects csv into a dataframe.\n",
    "suspects_raw_df = pd.read_csv(\"../Resources - MPD Data/suspectTable.csv\")\n",
    "suspects_raw_df.head(3)"
   ]
  },
  {
   "cell_type": "code",
   "execution_count": null,
   "metadata": {},
   "outputs": [],
   "source": [
    "# Review the suspects table structure\n",
    "suspects_raw_df.info()"
   ]
  },
  {
   "cell_type": "markdown",
   "metadata": {},
   "source": [
    "#### Victims: Load raw csv, create dataframe and clean data."
   ]
  },
  {
   "cell_type": "code",
   "execution_count": null,
   "metadata": {},
   "outputs": [],
   "source": [
    "# Load the victims csv into a dataframe.\n",
    "victims_raw_df = pd.read_csv(\"../Resources - MPD Data/victimTable.csv\")"
   ]
  },
  {
   "cell_type": "code",
   "execution_count": null,
   "metadata": {},
   "outputs": [],
   "source": [
    "# Review the suspects table structure\n",
    "victims_raw_df.info()"
   ]
  },
  {
   "cell_type": "code",
   "execution_count": null,
   "metadata": {},
   "outputs": [],
   "source": []
  }
 ],
 "metadata": {
  "kernelspec": {
   "display_name": "PythonData",
   "language": "python",
   "name": "pythondata"
  },
  "language_info": {
   "codemirror_mode": {
    "name": "ipython",
    "version": 3
   },
   "file_extension": ".py",
   "mimetype": "text/x-python",
   "name": "python",
   "nbconvert_exporter": "python",
   "pygments_lexer": "ipython3",
   "version": "3.6.9"
  }
 },
 "nbformat": 4,
 "nbformat_minor": 2
}
